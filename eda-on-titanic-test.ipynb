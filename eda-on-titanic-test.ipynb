{
 "cells": [
  {
   "cell_type": "code",
   "execution_count": 1,
   "id": "30a8daaa",
   "metadata": {
    "_cell_guid": "b1076dfc-b9ad-4769-8c92-a6c4dae69d19",
    "_uuid": "8f2839f25d086af736a60e9eeb907d3b93b6e0e5",
    "execution": {
     "iopub.execute_input": "2022-10-31T08:05:19.272340Z",
     "iopub.status.busy": "2022-10-31T08:05:19.271870Z",
     "iopub.status.idle": "2022-10-31T08:05:19.285816Z",
     "shell.execute_reply": "2022-10-31T08:05:19.284550Z"
    },
    "papermill": {
     "duration": 0.030477,
     "end_time": "2022-10-31T08:05:19.288899",
     "exception": false,
     "start_time": "2022-10-31T08:05:19.258422",
     "status": "completed"
    },
    "tags": []
   },
   "outputs": [
    {
     "name": "stdout",
     "output_type": "stream",
     "text": [
      "/kaggle/input/titanic/train.csv\n",
      "/kaggle/input/titanic/test.csv\n",
      "/kaggle/input/titanic/gender_submission.csv\n"
     ]
    }
   ],
   "source": [
    "# This Python 3 environment comes with many helpful analytics libraries installed\n",
    "# It is defined by the kaggle/python Docker image: https://github.com/kaggle/docker-python\n",
    "# For example, here's several helpful packages to load\n",
    "\n",
    "import numpy as np # linear algebra\n",
    "import pandas as pd # data processing, CSV file I/O (e.g. pd.read_csv)\n",
    "\n",
    "# Input data files are available in the read-only \"../input/\" directory\n",
    "# For example, running this (by clicking run or pressing Shift+Enter) will list all files under the input directory\n",
    "\n",
    "import os\n",
    "for dirname, _, filenames in os.walk('/kaggle/input'):\n",
    "    for filename in filenames:\n",
    "        print(os.path.join(dirname, filename))\n",
    "\n",
    "# You can write up to 20GB to the current directory (/kaggle/working/) that gets preserved as output when you create a version using \"Save & Run All\" \n",
    "# You can also write temporary files to /kaggle/temp/, but they won't be saved outside of the current session"
   ]
  },
  {
   "cell_type": "code",
   "execution_count": 2,
   "id": "8791cd51",
   "metadata": {
    "execution": {
     "iopub.execute_input": "2022-10-31T08:05:19.314353Z",
     "iopub.status.busy": "2022-10-31T08:05:19.313710Z",
     "iopub.status.idle": "2022-10-31T08:05:20.461669Z",
     "shell.execute_reply": "2022-10-31T08:05:20.460556Z"
    },
    "papermill": {
     "duration": 1.16509,
     "end_time": "2022-10-31T08:05:20.464673",
     "exception": false,
     "start_time": "2022-10-31T08:05:19.299583",
     "status": "completed"
    },
    "tags": []
   },
   "outputs": [],
   "source": [
    "import seaborn as sns\n",
    "import matplotlib.pyplot as plt"
   ]
  },
  {
   "cell_type": "code",
   "execution_count": 3,
   "id": "72bb036c",
   "metadata": {
    "execution": {
     "iopub.execute_input": "2022-10-31T08:05:20.489846Z",
     "iopub.status.busy": "2022-10-31T08:05:20.489420Z",
     "iopub.status.idle": "2022-10-31T08:05:20.510640Z",
     "shell.execute_reply": "2022-10-31T08:05:20.509539Z"
    },
    "papermill": {
     "duration": 0.038061,
     "end_time": "2022-10-31T08:05:20.513485",
     "exception": false,
     "start_time": "2022-10-31T08:05:20.475424",
     "status": "completed"
    },
    "tags": []
   },
   "outputs": [],
   "source": [
    "df = pd.read_csv('../input/titanic/train.csv')"
   ]
  },
  {
   "cell_type": "code",
   "execution_count": 4,
   "id": "2486cb97",
   "metadata": {
    "execution": {
     "iopub.execute_input": "2022-10-31T08:05:20.536439Z",
     "iopub.status.busy": "2022-10-31T08:05:20.535994Z",
     "iopub.status.idle": "2022-10-31T08:05:20.561569Z",
     "shell.execute_reply": "2022-10-31T08:05:20.560290Z"
    },
    "papermill": {
     "duration": 0.040336,
     "end_time": "2022-10-31T08:05:20.564418",
     "exception": false,
     "start_time": "2022-10-31T08:05:20.524082",
     "status": "completed"
    },
    "tags": []
   },
   "outputs": [
    {
     "data": {
      "text/html": [
       "<div>\n",
       "<style scoped>\n",
       "    .dataframe tbody tr th:only-of-type {\n",
       "        vertical-align: middle;\n",
       "    }\n",
       "\n",
       "    .dataframe tbody tr th {\n",
       "        vertical-align: top;\n",
       "    }\n",
       "\n",
       "    .dataframe thead th {\n",
       "        text-align: right;\n",
       "    }\n",
       "</style>\n",
       "<table border=\"1\" class=\"dataframe\">\n",
       "  <thead>\n",
       "    <tr style=\"text-align: right;\">\n",
       "      <th></th>\n",
       "      <th>PassengerId</th>\n",
       "      <th>Survived</th>\n",
       "      <th>Pclass</th>\n",
       "      <th>Name</th>\n",
       "      <th>Sex</th>\n",
       "      <th>Age</th>\n",
       "      <th>SibSp</th>\n",
       "      <th>Parch</th>\n",
       "      <th>Ticket</th>\n",
       "      <th>Fare</th>\n",
       "      <th>Cabin</th>\n",
       "      <th>Embarked</th>\n",
       "    </tr>\n",
       "  </thead>\n",
       "  <tbody>\n",
       "    <tr>\n",
       "      <th>0</th>\n",
       "      <td>1</td>\n",
       "      <td>0</td>\n",
       "      <td>3</td>\n",
       "      <td>Braund, Mr. Owen Harris</td>\n",
       "      <td>male</td>\n",
       "      <td>22.0</td>\n",
       "      <td>1</td>\n",
       "      <td>0</td>\n",
       "      <td>A/5 21171</td>\n",
       "      <td>7.2500</td>\n",
       "      <td>NaN</td>\n",
       "      <td>S</td>\n",
       "    </tr>\n",
       "    <tr>\n",
       "      <th>1</th>\n",
       "      <td>2</td>\n",
       "      <td>1</td>\n",
       "      <td>1</td>\n",
       "      <td>Cumings, Mrs. John Bradley (Florence Briggs Th...</td>\n",
       "      <td>female</td>\n",
       "      <td>38.0</td>\n",
       "      <td>1</td>\n",
       "      <td>0</td>\n",
       "      <td>PC 17599</td>\n",
       "      <td>71.2833</td>\n",
       "      <td>C85</td>\n",
       "      <td>C</td>\n",
       "    </tr>\n",
       "    <tr>\n",
       "      <th>2</th>\n",
       "      <td>3</td>\n",
       "      <td>1</td>\n",
       "      <td>3</td>\n",
       "      <td>Heikkinen, Miss. Laina</td>\n",
       "      <td>female</td>\n",
       "      <td>26.0</td>\n",
       "      <td>0</td>\n",
       "      <td>0</td>\n",
       "      <td>STON/O2. 3101282</td>\n",
       "      <td>7.9250</td>\n",
       "      <td>NaN</td>\n",
       "      <td>S</td>\n",
       "    </tr>\n",
       "    <tr>\n",
       "      <th>3</th>\n",
       "      <td>4</td>\n",
       "      <td>1</td>\n",
       "      <td>1</td>\n",
       "      <td>Futrelle, Mrs. Jacques Heath (Lily May Peel)</td>\n",
       "      <td>female</td>\n",
       "      <td>35.0</td>\n",
       "      <td>1</td>\n",
       "      <td>0</td>\n",
       "      <td>113803</td>\n",
       "      <td>53.1000</td>\n",
       "      <td>C123</td>\n",
       "      <td>S</td>\n",
       "    </tr>\n",
       "    <tr>\n",
       "      <th>4</th>\n",
       "      <td>5</td>\n",
       "      <td>0</td>\n",
       "      <td>3</td>\n",
       "      <td>Allen, Mr. William Henry</td>\n",
       "      <td>male</td>\n",
       "      <td>35.0</td>\n",
       "      <td>0</td>\n",
       "      <td>0</td>\n",
       "      <td>373450</td>\n",
       "      <td>8.0500</td>\n",
       "      <td>NaN</td>\n",
       "      <td>S</td>\n",
       "    </tr>\n",
       "  </tbody>\n",
       "</table>\n",
       "</div>"
      ],
      "text/plain": [
       "   PassengerId  Survived  Pclass  \\\n",
       "0            1         0       3   \n",
       "1            2         1       1   \n",
       "2            3         1       3   \n",
       "3            4         1       1   \n",
       "4            5         0       3   \n",
       "\n",
       "                                                Name     Sex   Age  SibSp  \\\n",
       "0                            Braund, Mr. Owen Harris    male  22.0      1   \n",
       "1  Cumings, Mrs. John Bradley (Florence Briggs Th...  female  38.0      1   \n",
       "2                             Heikkinen, Miss. Laina  female  26.0      0   \n",
       "3       Futrelle, Mrs. Jacques Heath (Lily May Peel)  female  35.0      1   \n",
       "4                           Allen, Mr. William Henry    male  35.0      0   \n",
       "\n",
       "   Parch            Ticket     Fare Cabin Embarked  \n",
       "0      0         A/5 21171   7.2500   NaN        S  \n",
       "1      0          PC 17599  71.2833   C85        C  \n",
       "2      0  STON/O2. 3101282   7.9250   NaN        S  \n",
       "3      0            113803  53.1000  C123        S  \n",
       "4      0            373450   8.0500   NaN        S  "
      ]
     },
     "execution_count": 4,
     "metadata": {},
     "output_type": "execute_result"
    }
   ],
   "source": [
    "df.head()"
   ]
  },
  {
   "cell_type": "code",
   "execution_count": 5,
   "id": "6370d175",
   "metadata": {
    "execution": {
     "iopub.execute_input": "2022-10-31T08:05:20.588132Z",
     "iopub.status.busy": "2022-10-31T08:05:20.587716Z",
     "iopub.status.idle": "2022-10-31T08:05:34.513096Z",
     "shell.execute_reply": "2022-10-31T08:05:34.511483Z"
    },
    "papermill": {
     "duration": 13.940397,
     "end_time": "2022-10-31T08:05:34.515786",
     "exception": false,
     "start_time": "2022-10-31T08:05:20.575389",
     "status": "completed"
    },
    "tags": []
   },
   "outputs": [
    {
     "name": "stdout",
     "output_type": "stream",
     "text": [
      "Requirement already satisfied: pandas-profiling in /opt/conda/lib/python3.7/site-packages (3.1.0)\r\n",
      "Requirement already satisfied: phik>=0.11.1 in /opt/conda/lib/python3.7/site-packages (from pandas-profiling) (0.12.2)\r\n",
      "Requirement already satisfied: PyYAML>=5.0.0 in /opt/conda/lib/python3.7/site-packages (from pandas-profiling) (6.0)\r\n",
      "Requirement already satisfied: requests>=2.24.0 in /opt/conda/lib/python3.7/site-packages (from pandas-profiling) (2.28.1)\r\n",
      "Requirement already satisfied: multimethod>=1.4 in /opt/conda/lib/python3.7/site-packages (from pandas-profiling) (1.4)\r\n",
      "Requirement already satisfied: pandas!=1.0.0,!=1.0.1,!=1.0.2,!=1.1.0,>=0.25.3 in /opt/conda/lib/python3.7/site-packages (from pandas-profiling) (1.3.5)\r\n",
      "Requirement already satisfied: scipy>=1.4.1 in /opt/conda/lib/python3.7/site-packages (from pandas-profiling) (1.7.3)\r\n",
      "Requirement already satisfied: tangled-up-in-unicode==0.1.0 in /opt/conda/lib/python3.7/site-packages (from pandas-profiling) (0.1.0)\r\n",
      "Requirement already satisfied: seaborn>=0.10.1 in /opt/conda/lib/python3.7/site-packages (from pandas-profiling) (0.11.2)\r\n",
      "Requirement already satisfied: matplotlib>=3.2.0 in /opt/conda/lib/python3.7/site-packages (from pandas-profiling) (3.5.3)\r\n",
      "Requirement already satisfied: visions[type_image_path]==0.7.4 in /opt/conda/lib/python3.7/site-packages (from pandas-profiling) (0.7.4)\r\n",
      "Requirement already satisfied: tqdm>=4.48.2 in /opt/conda/lib/python3.7/site-packages (from pandas-profiling) (4.64.0)\r\n",
      "Requirement already satisfied: pydantic>=1.8.1 in /opt/conda/lib/python3.7/site-packages (from pandas-profiling) (1.8.2)\r\n",
      "Requirement already satisfied: jinja2>=2.11.1 in /opt/conda/lib/python3.7/site-packages (from pandas-profiling) (3.1.2)\r\n",
      "Requirement already satisfied: numpy>=1.16.0 in /opt/conda/lib/python3.7/site-packages (from pandas-profiling) (1.21.6)\r\n",
      "Collecting markupsafe~=2.0.1\r\n",
      "  Downloading MarkupSafe-2.0.1-cp37-cp37m-manylinux_2_5_x86_64.manylinux1_x86_64.manylinux_2_12_x86_64.manylinux2010_x86_64.whl (31 kB)\r\n",
      "Requirement already satisfied: htmlmin>=0.1.12 in /opt/conda/lib/python3.7/site-packages (from pandas-profiling) (0.1.12)\r\n",
      "Requirement already satisfied: missingno>=0.4.2 in /opt/conda/lib/python3.7/site-packages (from pandas-profiling) (0.4.2)\r\n",
      "Requirement already satisfied: joblib~=1.0.1 in /opt/conda/lib/python3.7/site-packages (from pandas-profiling) (1.0.1)\r\n",
      "Requirement already satisfied: attrs>=19.3.0 in /opt/conda/lib/python3.7/site-packages (from visions[type_image_path]==0.7.4->pandas-profiling) (21.4.0)\r\n",
      "Requirement already satisfied: networkx>=2.4 in /opt/conda/lib/python3.7/site-packages (from visions[type_image_path]==0.7.4->pandas-profiling) (2.5)\r\n",
      "Requirement already satisfied: Pillow in /opt/conda/lib/python3.7/site-packages (from visions[type_image_path]==0.7.4->pandas-profiling) (9.1.1)\r\n",
      "Requirement already satisfied: imagehash in /opt/conda/lib/python3.7/site-packages (from visions[type_image_path]==0.7.4->pandas-profiling) (4.2.1)\r\n",
      "Requirement already satisfied: python-dateutil>=2.7 in /opt/conda/lib/python3.7/site-packages (from matplotlib>=3.2.0->pandas-profiling) (2.8.2)\r\n",
      "Requirement already satisfied: kiwisolver>=1.0.1 in /opt/conda/lib/python3.7/site-packages (from matplotlib>=3.2.0->pandas-profiling) (1.4.3)\r\n",
      "Requirement already satisfied: cycler>=0.10 in /opt/conda/lib/python3.7/site-packages (from matplotlib>=3.2.0->pandas-profiling) (0.11.0)\r\n",
      "Requirement already satisfied: packaging>=20.0 in /opt/conda/lib/python3.7/site-packages (from matplotlib>=3.2.0->pandas-profiling) (21.3)\r\n",
      "Requirement already satisfied: pyparsing>=2.2.1 in /opt/conda/lib/python3.7/site-packages (from matplotlib>=3.2.0->pandas-profiling) (3.0.9)\r\n",
      "Requirement already satisfied: fonttools>=4.22.0 in /opt/conda/lib/python3.7/site-packages (from matplotlib>=3.2.0->pandas-profiling) (4.33.3)\r\n",
      "Requirement already satisfied: pytz>=2017.3 in /opt/conda/lib/python3.7/site-packages (from pandas!=1.0.0,!=1.0.1,!=1.0.2,!=1.1.0,>=0.25.3->pandas-profiling) (2022.1)\r\n",
      "Requirement already satisfied: typing-extensions>=3.7.4.3 in /opt/conda/lib/python3.7/site-packages (from pydantic>=1.8.1->pandas-profiling) (4.4.0)\r\n",
      "Requirement already satisfied: certifi>=2017.4.17 in /opt/conda/lib/python3.7/site-packages (from requests>=2.24.0->pandas-profiling) (2022.9.24)\r\n",
      "Requirement already satisfied: charset-normalizer<3,>=2 in /opt/conda/lib/python3.7/site-packages (from requests>=2.24.0->pandas-profiling) (2.1.0)\r\n",
      "Requirement already satisfied: idna<4,>=2.5 in /opt/conda/lib/python3.7/site-packages (from requests>=2.24.0->pandas-profiling) (3.3)\r\n",
      "Requirement already satisfied: urllib3<1.27,>=1.21.1 in /opt/conda/lib/python3.7/site-packages (from requests>=2.24.0->pandas-profiling) (1.26.12)\r\n",
      "Requirement already satisfied: decorator>=4.3.0 in /opt/conda/lib/python3.7/site-packages (from networkx>=2.4->visions[type_image_path]==0.7.4->pandas-profiling) (5.1.1)\r\n",
      "Requirement already satisfied: six>=1.5 in /opt/conda/lib/python3.7/site-packages (from python-dateutil>=2.7->matplotlib>=3.2.0->pandas-profiling) (1.15.0)\r\n",
      "Requirement already satisfied: PyWavelets in /opt/conda/lib/python3.7/site-packages (from imagehash->visions[type_image_path]==0.7.4->pandas-profiling) (1.3.0)\r\n",
      "Installing collected packages: markupsafe\r\n",
      "  Attempting uninstall: markupsafe\r\n",
      "    Found existing installation: MarkupSafe 2.1.1\r\n",
      "    Uninstalling MarkupSafe-2.1.1:\r\n",
      "      Successfully uninstalled MarkupSafe-2.1.1\r\n",
      "\u001b[31mERROR: pip's dependency resolver does not currently take into account all the packages that are installed. This behaviour is the source of the following dependency conflicts.\r\n",
      "beatrix-jupyterlab 3.1.7 requires google-cloud-bigquery-storage, which is not installed.\r\n",
      "werkzeug 2.2.2 requires MarkupSafe>=2.1.1, but you have markupsafe 2.0.1 which is incompatible.\u001b[0m\u001b[31m\r\n",
      "\u001b[0mSuccessfully installed markupsafe-2.0.1\r\n",
      "\u001b[33mWARNING: Running pip as the 'root' user can result in broken permissions and conflicting behaviour with the system package manager. It is recommended to use a virtual environment instead: https://pip.pypa.io/warnings/venv\u001b[0m\u001b[33m\r\n",
      "\u001b[0mNote: you may need to restart the kernel to use updated packages.\n"
     ]
    }
   ],
   "source": [
    "pip install pandas-profiling"
   ]
  },
  {
   "cell_type": "code",
   "execution_count": 6,
   "id": "b09577bf",
   "metadata": {
    "execution": {
     "iopub.execute_input": "2022-10-31T08:05:34.543320Z",
     "iopub.status.busy": "2022-10-31T08:05:34.542538Z",
     "iopub.status.idle": "2022-10-31T08:05:54.699106Z",
     "shell.execute_reply": "2022-10-31T08:05:54.697808Z"
    },
    "papermill": {
     "duration": 20.173368,
     "end_time": "2022-10-31T08:05:54.701660",
     "exception": false,
     "start_time": "2022-10-31T08:05:34.528292",
     "status": "completed"
    },
    "tags": []
   },
   "outputs": [
    {
     "data": {
      "application/vnd.jupyter.widget-view+json": {
       "model_id": "58df1e0f802f421cb60b801ba4bdae43",
       "version_major": 2,
       "version_minor": 0
      },
      "text/plain": [
       "Summarize dataset:   0%|          | 0/5 [00:00<?, ?it/s]"
      ]
     },
     "metadata": {},
     "output_type": "display_data"
    },
    {
     "data": {
      "application/vnd.jupyter.widget-view+json": {
       "model_id": "6d38ab2986004b4c97a80d001cba96e8",
       "version_major": 2,
       "version_minor": 0
      },
      "text/plain": [
       "Generate report structure:   0%|          | 0/1 [00:00<?, ?it/s]"
      ]
     },
     "metadata": {},
     "output_type": "display_data"
    },
    {
     "data": {
      "application/vnd.jupyter.widget-view+json": {
       "model_id": "ebf53f9ae7af4b7ea7c61c38fd248e87",
       "version_major": 2,
       "version_minor": 0
      },
      "text/plain": [
       "Render HTML:   0%|          | 0/1 [00:00<?, ?it/s]"
      ]
     },
     "metadata": {},
     "output_type": "display_data"
    },
    {
     "data": {
      "application/vnd.jupyter.widget-view+json": {
       "model_id": "52dcdc361e5c4d3c8b3cc6d20e706e53",
       "version_major": 2,
       "version_minor": 0
      },
      "text/plain": [
       "Export report to file:   0%|          | 0/1 [00:00<?, ?it/s]"
      ]
     },
     "metadata": {},
     "output_type": "display_data"
    }
   ],
   "source": [
    "from pandas_profiling import ProfileReport\n",
    "prof=ProfileReport(df)\n",
    "prof.to_file(output_file='titanicEDA_report.html')"
   ]
  },
  {
   "cell_type": "markdown",
   "id": "0ec97be4",
   "metadata": {
    "papermill": {
     "duration": 0.011882,
     "end_time": "2022-10-31T08:05:54.726011",
     "exception": false,
     "start_time": "2022-10-31T08:05:54.714129",
     "status": "completed"
    },
    "tags": []
   },
   "source": [
    "\n",
    "\n",
    "***Countplot***"
   ]
  },
  {
   "cell_type": "code",
   "execution_count": 7,
   "id": "6632ef94",
   "metadata": {
    "execution": {
     "iopub.execute_input": "2022-10-31T08:05:54.752482Z",
     "iopub.status.busy": "2022-10-31T08:05:54.752067Z",
     "iopub.status.idle": "2022-10-31T08:05:54.868944Z",
     "shell.execute_reply": "2022-10-31T08:05:54.866974Z"
    },
    "papermill": {
     "duration": 0.135579,
     "end_time": "2022-10-31T08:05:54.873866",
     "exception": false,
     "start_time": "2022-10-31T08:05:54.738287",
     "status": "completed"
    },
    "tags": []
   },
   "outputs": [
    {
     "data": {
      "text/plain": [
       "<AxesSubplot:>"
      ]
     },
     "execution_count": 7,
     "metadata": {},
     "output_type": "execute_result"
    }
   ],
   "source": [
    "#sns.countplot(df['Survived'])\n",
    "df['Survived'].value_counts().plot(kind='bar')\n"
   ]
  },
  {
   "cell_type": "code",
   "execution_count": 8,
   "id": "83e4691e",
   "metadata": {
    "execution": {
     "iopub.execute_input": "2022-10-31T08:05:54.920425Z",
     "iopub.status.busy": "2022-10-31T08:05:54.920015Z",
     "iopub.status.idle": "2022-10-31T08:05:54.954934Z",
     "shell.execute_reply": "2022-10-31T08:05:54.953646Z"
    },
    "papermill": {
     "duration": 0.052133,
     "end_time": "2022-10-31T08:05:54.957776",
     "exception": false,
     "start_time": "2022-10-31T08:05:54.905643",
     "status": "completed"
    },
    "tags": []
   },
   "outputs": [
    {
     "data": {
      "text/plain": [
       "<AxesSubplot:>"
      ]
     },
     "execution_count": 8,
     "metadata": {},
     "output_type": "execute_result"
    }
   ],
   "source": [
    "df['Pclass'].value_counts().plot(kind='bar')"
   ]
  },
  {
   "cell_type": "code",
   "execution_count": 9,
   "id": "751baa64",
   "metadata": {
    "execution": {
     "iopub.execute_input": "2022-10-31T08:05:54.984793Z",
     "iopub.status.busy": "2022-10-31T08:05:54.984383Z",
     "iopub.status.idle": "2022-10-31T08:05:55.019989Z",
     "shell.execute_reply": "2022-10-31T08:05:55.018665Z"
    },
    "papermill": {
     "duration": 0.052244,
     "end_time": "2022-10-31T08:05:55.022883",
     "exception": false,
     "start_time": "2022-10-31T08:05:54.970639",
     "status": "completed"
    },
    "tags": []
   },
   "outputs": [
    {
     "data": {
      "text/plain": [
       "<AxesSubplot:>"
      ]
     },
     "execution_count": 9,
     "metadata": {},
     "output_type": "execute_result"
    }
   ],
   "source": [
    "df['Sex'].value_counts().plot(kind='bar')"
   ]
  },
  {
   "cell_type": "code",
   "execution_count": 10,
   "id": "0db9ac88",
   "metadata": {
    "execution": {
     "iopub.execute_input": "2022-10-31T08:05:55.050464Z",
     "iopub.status.busy": "2022-10-31T08:05:55.050005Z",
     "iopub.status.idle": "2022-10-31T08:05:55.088590Z",
     "shell.execute_reply": "2022-10-31T08:05:55.087373Z"
    },
    "papermill": {
     "duration": 0.055636,
     "end_time": "2022-10-31T08:05:55.091632",
     "exception": false,
     "start_time": "2022-10-31T08:05:55.035996",
     "status": "completed"
    },
    "tags": []
   },
   "outputs": [
    {
     "data": {
      "text/plain": [
       "<AxesSubplot:>"
      ]
     },
     "execution_count": 10,
     "metadata": {},
     "output_type": "execute_result"
    }
   ],
   "source": [
    "df['Embarked'].value_counts().plot(kind='bar')"
   ]
  },
  {
   "cell_type": "markdown",
   "id": "3f03816e",
   "metadata": {
    "papermill": {
     "duration": 0.012346,
     "end_time": "2022-10-31T08:05:55.117298",
     "exception": false,
     "start_time": "2022-10-31T08:05:55.104952",
     "status": "completed"
    },
    "tags": []
   },
   "source": [
    "\n",
    "***Pie Chart***\n"
   ]
  },
  {
   "cell_type": "code",
   "execution_count": 11,
   "id": "72283db2",
   "metadata": {
    "execution": {
     "iopub.execute_input": "2022-10-31T08:05:55.144882Z",
     "iopub.status.busy": "2022-10-31T08:05:55.144222Z",
     "iopub.status.idle": "2022-10-31T08:05:55.174246Z",
     "shell.execute_reply": "2022-10-31T08:05:55.173192Z"
    },
    "papermill": {
     "duration": 0.047133,
     "end_time": "2022-10-31T08:05:55.177047",
     "exception": false,
     "start_time": "2022-10-31T08:05:55.129914",
     "status": "completed"
    },
    "tags": []
   },
   "outputs": [
    {
     "data": {
      "text/plain": [
       "<AxesSubplot:ylabel='Survived'>"
      ]
     },
     "execution_count": 11,
     "metadata": {},
     "output_type": "execute_result"
    }
   ],
   "source": [
    "df['Survived'].value_counts().plot(kind='pie',autopct='%.2f')"
   ]
  },
  {
   "cell_type": "code",
   "execution_count": 12,
   "id": "046fa232",
   "metadata": {
    "execution": {
     "iopub.execute_input": "2022-10-31T08:05:55.204666Z",
     "iopub.status.busy": "2022-10-31T08:05:55.203771Z",
     "iopub.status.idle": "2022-10-31T08:05:55.239122Z",
     "shell.execute_reply": "2022-10-31T08:05:55.238047Z"
    },
    "papermill": {
     "duration": 0.052295,
     "end_time": "2022-10-31T08:05:55.242020",
     "exception": false,
     "start_time": "2022-10-31T08:05:55.189725",
     "status": "completed"
    },
    "tags": []
   },
   "outputs": [
    {
     "data": {
      "text/plain": [
       "<AxesSubplot:ylabel='Pclass'>"
      ]
     },
     "execution_count": 12,
     "metadata": {},
     "output_type": "execute_result"
    }
   ],
   "source": [
    "df['Pclass'].value_counts().plot(kind='pie',autopct='%.2f')"
   ]
  },
  {
   "cell_type": "code",
   "execution_count": 13,
   "id": "c6b3bd1c",
   "metadata": {
    "execution": {
     "iopub.execute_input": "2022-10-31T08:05:55.269551Z",
     "iopub.status.busy": "2022-10-31T08:05:55.269115Z",
     "iopub.status.idle": "2022-10-31T08:05:55.304649Z",
     "shell.execute_reply": "2022-10-31T08:05:55.303408Z"
    },
    "papermill": {
     "duration": 0.052332,
     "end_time": "2022-10-31T08:05:55.307290",
     "exception": false,
     "start_time": "2022-10-31T08:05:55.254958",
     "status": "completed"
    },
    "tags": []
   },
   "outputs": [
    {
     "data": {
      "text/plain": [
       "<AxesSubplot:ylabel='Sex'>"
      ]
     },
     "execution_count": 13,
     "metadata": {},
     "output_type": "execute_result"
    }
   ],
   "source": [
    "df['Sex'].value_counts().plot(kind='pie',autopct='%.2f')"
   ]
  },
  {
   "cell_type": "markdown",
   "id": "22f22979",
   "metadata": {
    "papermill": {
     "duration": 0.01279,
     "end_time": "2022-10-31T08:05:55.333262",
     "exception": false,
     "start_time": "2022-10-31T08:05:55.320472",
     "status": "completed"
    },
    "tags": []
   },
   "source": [
    "\n",
    "***Histogram***\n"
   ]
  },
  {
   "cell_type": "code",
   "execution_count": 14,
   "id": "fed69123",
   "metadata": {
    "execution": {
     "iopub.execute_input": "2022-10-31T08:05:55.361306Z",
     "iopub.status.busy": "2022-10-31T08:05:55.360860Z",
     "iopub.status.idle": "2022-10-31T08:05:55.425034Z",
     "shell.execute_reply": "2022-10-31T08:05:55.423677Z"
    },
    "papermill": {
     "duration": 0.081609,
     "end_time": "2022-10-31T08:05:55.427943",
     "exception": false,
     "start_time": "2022-10-31T08:05:55.346334",
     "status": "completed"
    },
    "tags": []
   },
   "outputs": [
    {
     "data": {
      "text/plain": [
       "(array([24., 16.,  7.,  7., 10.,  5.,  8., 23., 39., 40., 52., 46., 42.,\n",
       "        43., 47., 37., 32., 41., 18., 27., 21., 14., 17., 18., 16., 13.,\n",
       "         9.,  7.,  7.,  6.,  7.,  4.,  4.,  0.,  2.,  3.,  1.,  0.,  0.,\n",
       "         1.]),\n",
       " array([ 0.42  ,  2.4095,  4.399 ,  6.3885,  8.378 , 10.3675, 12.357 ,\n",
       "        14.3465, 16.336 , 18.3255, 20.315 , 22.3045, 24.294 , 26.2835,\n",
       "        28.273 , 30.2625, 32.252 , 34.2415, 36.231 , 38.2205, 40.21  ,\n",
       "        42.1995, 44.189 , 46.1785, 48.168 , 50.1575, 52.147 , 54.1365,\n",
       "        56.126 , 58.1155, 60.105 , 62.0945, 64.084 , 66.0735, 68.063 ,\n",
       "        70.0525, 72.042 , 74.0315, 76.021 , 78.0105, 80.    ]),\n",
       " <BarContainer object of 40 artists>)"
      ]
     },
     "execution_count": 14,
     "metadata": {},
     "output_type": "execute_result"
    }
   ],
   "source": [
    "plt.hist(df['Age'], bins=40)"
   ]
  },
  {
   "cell_type": "markdown",
   "id": "469f5422",
   "metadata": {
    "papermill": {
     "duration": 0.01292,
     "end_time": "2022-10-31T08:05:55.454040",
     "exception": false,
     "start_time": "2022-10-31T08:05:55.441120",
     "status": "completed"
    },
    "tags": []
   },
   "source": [
    "\n",
    "***Distplot***\n"
   ]
  },
  {
   "cell_type": "code",
   "execution_count": 15,
   "id": "ef6b9958",
   "metadata": {
    "execution": {
     "iopub.execute_input": "2022-10-31T08:05:55.482088Z",
     "iopub.status.busy": "2022-10-31T08:05:55.481662Z",
     "iopub.status.idle": "2022-10-31T08:05:55.557964Z",
     "shell.execute_reply": "2022-10-31T08:05:55.556845Z"
    },
    "papermill": {
     "duration": 0.093517,
     "end_time": "2022-10-31T08:05:55.560694",
     "exception": false,
     "start_time": "2022-10-31T08:05:55.467177",
     "status": "completed"
    },
    "tags": []
   },
   "outputs": [
    {
     "name": "stderr",
     "output_type": "stream",
     "text": [
      "/opt/conda/lib/python3.7/site-packages/seaborn/distributions.py:2619: FutureWarning: `distplot` is a deprecated function and will be removed in a future version. Please adapt your code to use either `displot` (a figure-level function with similar flexibility) or `histplot` (an axes-level function for histograms).\n",
      "  warnings.warn(msg, FutureWarning)\n"
     ]
    },
    {
     "data": {
      "text/plain": [
       "<AxesSubplot:xlabel='Age', ylabel='Sex'>"
      ]
     },
     "execution_count": 15,
     "metadata": {},
     "output_type": "execute_result"
    }
   ],
   "source": [
    "sns.distplot(df['Age'])\n",
    "#pdf-probability density function"
   ]
  },
  {
   "cell_type": "code",
   "execution_count": 16,
   "id": "b174ad6c",
   "metadata": {
    "execution": {
     "iopub.execute_input": "2022-10-31T08:05:55.589485Z",
     "iopub.status.busy": "2022-10-31T08:05:55.589050Z",
     "iopub.status.idle": "2022-10-31T08:05:55.598010Z",
     "shell.execute_reply": "2022-10-31T08:05:55.596828Z"
    },
    "papermill": {
     "duration": 0.026163,
     "end_time": "2022-10-31T08:05:55.600318",
     "exception": false,
     "start_time": "2022-10-31T08:05:55.574155",
     "status": "completed"
    },
    "tags": []
   },
   "outputs": [
    {
     "data": {
      "text/plain": [
       "0.42"
      ]
     },
     "execution_count": 16,
     "metadata": {},
     "output_type": "execute_result"
    }
   ],
   "source": [
    "df['Age'].min()"
   ]
  },
  {
   "cell_type": "code",
   "execution_count": 17,
   "id": "09eb8bff",
   "metadata": {
    "execution": {
     "iopub.execute_input": "2022-10-31T08:05:55.628860Z",
     "iopub.status.busy": "2022-10-31T08:05:55.628440Z",
     "iopub.status.idle": "2022-10-31T08:05:55.635374Z",
     "shell.execute_reply": "2022-10-31T08:05:55.634466Z"
    },
    "papermill": {
     "duration": 0.023773,
     "end_time": "2022-10-31T08:05:55.637639",
     "exception": false,
     "start_time": "2022-10-31T08:05:55.613866",
     "status": "completed"
    },
    "tags": []
   },
   "outputs": [
    {
     "data": {
      "text/plain": [
       "80.0"
      ]
     },
     "execution_count": 17,
     "metadata": {},
     "output_type": "execute_result"
    }
   ],
   "source": [
    "df['Age'].max()"
   ]
  },
  {
   "cell_type": "code",
   "execution_count": 18,
   "id": "81531b83",
   "metadata": {
    "execution": {
     "iopub.execute_input": "2022-10-31T08:05:55.666980Z",
     "iopub.status.busy": "2022-10-31T08:05:55.666592Z",
     "iopub.status.idle": "2022-10-31T08:05:55.673742Z",
     "shell.execute_reply": "2022-10-31T08:05:55.672807Z"
    },
    "papermill": {
     "duration": 0.024634,
     "end_time": "2022-10-31T08:05:55.676109",
     "exception": false,
     "start_time": "2022-10-31T08:05:55.651475",
     "status": "completed"
    },
    "tags": []
   },
   "outputs": [
    {
     "data": {
      "text/plain": [
       "29.69911764705882"
      ]
     },
     "execution_count": 18,
     "metadata": {},
     "output_type": "execute_result"
    }
   ],
   "source": [
    "df['Age'].mean()"
   ]
  },
  {
   "cell_type": "code",
   "execution_count": 19,
   "id": "7b89e6ca",
   "metadata": {
    "execution": {
     "iopub.execute_input": "2022-10-31T08:05:55.705726Z",
     "iopub.status.busy": "2022-10-31T08:05:55.705280Z",
     "iopub.status.idle": "2022-10-31T08:05:55.713339Z",
     "shell.execute_reply": "2022-10-31T08:05:55.712166Z"
    },
    "papermill": {
     "duration": 0.025543,
     "end_time": "2022-10-31T08:05:55.715868",
     "exception": false,
     "start_time": "2022-10-31T08:05:55.690325",
     "status": "completed"
    },
    "tags": []
   },
   "outputs": [
    {
     "data": {
      "text/plain": [
       "0.38910778230082704"
      ]
     },
     "execution_count": 19,
     "metadata": {},
     "output_type": "execute_result"
    }
   ],
   "source": [
    "df['Age'].skew()"
   ]
  },
  {
   "cell_type": "code",
   "execution_count": 20,
   "id": "2dddfd22",
   "metadata": {
    "execution": {
     "iopub.execute_input": "2022-10-31T08:05:55.745291Z",
     "iopub.status.busy": "2022-10-31T08:05:55.744903Z",
     "iopub.status.idle": "2022-10-31T08:05:55.810145Z",
     "shell.execute_reply": "2022-10-31T08:05:55.808874Z"
    },
    "papermill": {
     "duration": 0.083463,
     "end_time": "2022-10-31T08:05:55.812990",
     "exception": false,
     "start_time": "2022-10-31T08:05:55.729527",
     "status": "completed"
    },
    "tags": []
   },
   "outputs": [
    {
     "name": "stderr",
     "output_type": "stream",
     "text": [
      "/opt/conda/lib/python3.7/site-packages/seaborn/distributions.py:2619: FutureWarning: `distplot` is a deprecated function and will be removed in a future version. Please adapt your code to use either `displot` (a figure-level function with similar flexibility) or `kdeplot` (an axes-level function for kernel density plots).\n",
      "  warnings.warn(msg, FutureWarning)\n",
      "/opt/conda/lib/python3.7/site-packages/seaborn/distributions.py:2619: FutureWarning: `distplot` is a deprecated function and will be removed in a future version. Please adapt your code to use either `displot` (a figure-level function with similar flexibility) or `kdeplot` (an axes-level function for kernel density plots).\n",
      "  warnings.warn(msg, FutureWarning)\n"
     ]
    },
    {
     "data": {
      "text/plain": [
       "<AxesSubplot:xlabel='Age', ylabel='Sex'>"
      ]
     },
     "execution_count": 20,
     "metadata": {},
     "output_type": "execute_result"
    }
   ],
   "source": [
    "sns.distplot(df[df['Survived']==0]['Age'],hist=False)\n",
    "sns.distplot(df[df['Survived']==1]['Age'],hist=False)"
   ]
  },
  {
   "cell_type": "markdown",
   "id": "39655759",
   "metadata": {
    "papermill": {
     "duration": 0.013582,
     "end_time": "2022-10-31T08:05:55.841051",
     "exception": false,
     "start_time": "2022-10-31T08:05:55.827469",
     "status": "completed"
    },
    "tags": []
   },
   "source": [
    "\n",
    "***Boxplot***\n"
   ]
  },
  {
   "cell_type": "code",
   "execution_count": 21,
   "id": "ad17d2d7",
   "metadata": {
    "execution": {
     "iopub.execute_input": "2022-10-31T08:05:55.872175Z",
     "iopub.status.busy": "2022-10-31T08:05:55.871235Z",
     "iopub.status.idle": "2022-10-31T08:05:55.924036Z",
     "shell.execute_reply": "2022-10-31T08:05:55.922866Z"
    },
    "papermill": {
     "duration": 0.071112,
     "end_time": "2022-10-31T08:05:55.926917",
     "exception": false,
     "start_time": "2022-10-31T08:05:55.855805",
     "status": "completed"
    },
    "tags": []
   },
   "outputs": [
    {
     "name": "stderr",
     "output_type": "stream",
     "text": [
      "/opt/conda/lib/python3.7/site-packages/seaborn/_decorators.py:43: FutureWarning: Pass the following variable as a keyword arg: x. From version 0.12, the only valid positional argument will be `data`, and passing other arguments without an explicit keyword will result in an error or misinterpretation.\n",
      "  FutureWarning\n"
     ]
    },
    {
     "data": {
      "text/plain": [
       "<AxesSubplot:xlabel='Fare', ylabel='Sex'>"
      ]
     },
     "execution_count": 21,
     "metadata": {},
     "output_type": "execute_result"
    }
   ],
   "source": [
    "sns.boxplot(df['Fare'])"
   ]
  },
  {
   "cell_type": "code",
   "execution_count": 22,
   "id": "6d820517",
   "metadata": {
    "execution": {
     "iopub.execute_input": "2022-10-31T08:05:55.957656Z",
     "iopub.status.busy": "2022-10-31T08:05:55.957169Z",
     "iopub.status.idle": "2022-10-31T08:05:56.007891Z",
     "shell.execute_reply": "2022-10-31T08:05:56.006679Z"
    },
    "papermill": {
     "duration": 0.069484,
     "end_time": "2022-10-31T08:05:56.010621",
     "exception": false,
     "start_time": "2022-10-31T08:05:55.941137",
     "status": "completed"
    },
    "tags": []
   },
   "outputs": [
    {
     "name": "stderr",
     "output_type": "stream",
     "text": [
      "/opt/conda/lib/python3.7/site-packages/seaborn/_decorators.py:43: FutureWarning: Pass the following variable as a keyword arg: x. From version 0.12, the only valid positional argument will be `data`, and passing other arguments without an explicit keyword will result in an error or misinterpretation.\n",
      "  FutureWarning\n"
     ]
    },
    {
     "data": {
      "text/plain": [
       "<AxesSubplot:xlabel='Age', ylabel='Sex'>"
      ]
     },
     "execution_count": 22,
     "metadata": {},
     "output_type": "execute_result"
    }
   ],
   "source": [
    "sns.boxplot(df['Age'])"
   ]
  },
  {
   "cell_type": "code",
   "execution_count": 23,
   "id": "127d2a24",
   "metadata": {
    "execution": {
     "iopub.execute_input": "2022-10-31T08:05:56.041785Z",
     "iopub.status.busy": "2022-10-31T08:05:56.040696Z",
     "iopub.status.idle": "2022-10-31T08:05:56.229440Z",
     "shell.execute_reply": "2022-10-31T08:05:56.228289Z"
    },
    "papermill": {
     "duration": 0.207216,
     "end_time": "2022-10-31T08:05:56.232189",
     "exception": false,
     "start_time": "2022-10-31T08:05:56.024973",
     "status": "completed"
    },
    "tags": []
   },
   "outputs": [
    {
     "name": "stderr",
     "output_type": "stream",
     "text": [
      "/opt/conda/lib/python3.7/site-packages/seaborn/_decorators.py:43: FutureWarning: Pass the following variables as keyword args: x, y. From version 0.12, the only valid positional argument will be `data`, and passing other arguments without an explicit keyword will result in an error or misinterpretation.\n",
      "  FutureWarning\n"
     ]
    },
    {
     "data": {
      "text/plain": [
       "<AxesSubplot:xlabel='Sex', ylabel='Age'>"
      ]
     },
     "execution_count": 23,
     "metadata": {},
     "output_type": "execute_result"
    }
   ],
   "source": [
    "sns.boxplot(df['Sex'],df['Age'],hue=df['Survived'])"
   ]
  },
  {
   "cell_type": "markdown",
   "id": "c62dcee3",
   "metadata": {
    "papermill": {
     "duration": 0.014002,
     "end_time": "2022-10-31T08:05:56.260491",
     "exception": false,
     "start_time": "2022-10-31T08:05:56.246489",
     "status": "completed"
    },
    "tags": []
   },
   "source": [
    "\n",
    "***Barplot***\n"
   ]
  },
  {
   "cell_type": "code",
   "execution_count": 24,
   "id": "9e2a8500",
   "metadata": {
    "execution": {
     "iopub.execute_input": "2022-10-31T08:05:56.291202Z",
     "iopub.status.busy": "2022-10-31T08:05:56.290781Z",
     "iopub.status.idle": "2022-10-31T08:05:56.609148Z",
     "shell.execute_reply": "2022-10-31T08:05:56.607999Z"
    },
    "papermill": {
     "duration": 0.337452,
     "end_time": "2022-10-31T08:05:56.612292",
     "exception": false,
     "start_time": "2022-10-31T08:05:56.274840",
     "status": "completed"
    },
    "tags": []
   },
   "outputs": [
    {
     "name": "stderr",
     "output_type": "stream",
     "text": [
      "/opt/conda/lib/python3.7/site-packages/seaborn/_decorators.py:43: FutureWarning: Pass the following variables as keyword args: x, y. From version 0.12, the only valid positional argument will be `data`, and passing other arguments without an explicit keyword will result in an error or misinterpretation.\n",
      "  FutureWarning\n"
     ]
    },
    {
     "data": {
      "text/plain": [
       "<AxesSubplot:xlabel='Pclass', ylabel='Age'>"
      ]
     },
     "execution_count": 24,
     "metadata": {},
     "output_type": "execute_result"
    }
   ],
   "source": [
    "sns.barplot(df['Pclass'],df['Age'],hue=df['Sex'])"
   ]
  },
  {
   "cell_type": "code",
   "execution_count": 25,
   "id": "35edafd2",
   "metadata": {
    "execution": {
     "iopub.execute_input": "2022-10-31T08:05:56.644279Z",
     "iopub.status.busy": "2022-10-31T08:05:56.643889Z",
     "iopub.status.idle": "2022-10-31T08:05:56.969740Z",
     "shell.execute_reply": "2022-10-31T08:05:56.968698Z"
    },
    "papermill": {
     "duration": 0.34466,
     "end_time": "2022-10-31T08:05:56.972425",
     "exception": false,
     "start_time": "2022-10-31T08:05:56.627765",
     "status": "completed"
    },
    "tags": []
   },
   "outputs": [
    {
     "name": "stderr",
     "output_type": "stream",
     "text": [
      "/opt/conda/lib/python3.7/site-packages/seaborn/_decorators.py:43: FutureWarning: Pass the following variables as keyword args: x, y. From version 0.12, the only valid positional argument will be `data`, and passing other arguments without an explicit keyword will result in an error or misinterpretation.\n",
      "  FutureWarning\n"
     ]
    },
    {
     "data": {
      "text/plain": [
       "<AxesSubplot:xlabel='Pclass', ylabel='Fare'>"
      ]
     },
     "execution_count": 25,
     "metadata": {},
     "output_type": "execute_result"
    }
   ],
   "source": [
    "sns.barplot(df['Pclass'],df['Fare'],hue=df['Sex'])"
   ]
  },
  {
   "cell_type": "markdown",
   "id": "9ba34ceb",
   "metadata": {
    "papermill": {
     "duration": 0.014186,
     "end_time": "2022-10-31T08:05:57.001421",
     "exception": false,
     "start_time": "2022-10-31T08:05:56.987235",
     "status": "completed"
    },
    "tags": []
   },
   "source": [
    "\n",
    "\n",
    "***Heatmap***\n",
    "\n"
   ]
  },
  {
   "cell_type": "code",
   "execution_count": 26,
   "id": "dff2b156",
   "metadata": {
    "execution": {
     "iopub.execute_input": "2022-10-31T08:05:57.032321Z",
     "iopub.status.busy": "2022-10-31T08:05:57.031927Z",
     "iopub.status.idle": "2022-10-31T08:05:57.055280Z",
     "shell.execute_reply": "2022-10-31T08:05:57.054023Z"
    },
    "papermill": {
     "duration": 0.041904,
     "end_time": "2022-10-31T08:05:57.057981",
     "exception": false,
     "start_time": "2022-10-31T08:05:57.016077",
     "status": "completed"
    },
    "tags": []
   },
   "outputs": [
    {
     "data": {
      "text/html": [
       "<div>\n",
       "<style scoped>\n",
       "    .dataframe tbody tr th:only-of-type {\n",
       "        vertical-align: middle;\n",
       "    }\n",
       "\n",
       "    .dataframe tbody tr th {\n",
       "        vertical-align: top;\n",
       "    }\n",
       "\n",
       "    .dataframe thead th {\n",
       "        text-align: right;\n",
       "    }\n",
       "</style>\n",
       "<table border=\"1\" class=\"dataframe\">\n",
       "  <thead>\n",
       "    <tr style=\"text-align: right;\">\n",
       "      <th>Survived</th>\n",
       "      <th>0</th>\n",
       "      <th>1</th>\n",
       "    </tr>\n",
       "    <tr>\n",
       "      <th>Pclass</th>\n",
       "      <th></th>\n",
       "      <th></th>\n",
       "    </tr>\n",
       "  </thead>\n",
       "  <tbody>\n",
       "    <tr>\n",
       "      <th>1</th>\n",
       "      <td>80</td>\n",
       "      <td>136</td>\n",
       "    </tr>\n",
       "    <tr>\n",
       "      <th>2</th>\n",
       "      <td>97</td>\n",
       "      <td>87</td>\n",
       "    </tr>\n",
       "    <tr>\n",
       "      <th>3</th>\n",
       "      <td>372</td>\n",
       "      <td>119</td>\n",
       "    </tr>\n",
       "  </tbody>\n",
       "</table>\n",
       "</div>"
      ],
      "text/plain": [
       "Survived    0    1\n",
       "Pclass            \n",
       "1          80  136\n",
       "2          97   87\n",
       "3         372  119"
      ]
     },
     "execution_count": 26,
     "metadata": {},
     "output_type": "execute_result"
    }
   ],
   "source": [
    "x=pd.crosstab(df['Pclass'],df['Survived'])\n",
    "x"
   ]
  },
  {
   "cell_type": "code",
   "execution_count": 27,
   "id": "e973f54c",
   "metadata": {
    "execution": {
     "iopub.execute_input": "2022-10-31T08:05:57.090226Z",
     "iopub.status.busy": "2022-10-31T08:05:57.089178Z",
     "iopub.status.idle": "2022-10-31T08:05:57.487527Z",
     "shell.execute_reply": "2022-10-31T08:05:57.486394Z"
    },
    "papermill": {
     "duration": 0.418019,
     "end_time": "2022-10-31T08:05:57.491045",
     "exception": false,
     "start_time": "2022-10-31T08:05:57.073026",
     "status": "completed"
    },
    "tags": []
   },
   "outputs": [
    {
     "data": {
      "text/plain": [
       "<AxesSubplot:xlabel='Survived', ylabel='Pclass'>"
      ]
     },
     "execution_count": 27,
     "metadata": {},
     "output_type": "execute_result"
    }
   ],
   "source": [
    "sns.heatmap(x)"
   ]
  },
  {
   "cell_type": "code",
   "execution_count": 28,
   "id": "fb8deff9",
   "metadata": {
    "execution": {
     "iopub.execute_input": "2022-10-31T08:05:57.527139Z",
     "iopub.status.busy": "2022-10-31T08:05:57.525884Z",
     "iopub.status.idle": "2022-10-31T08:05:57.540017Z",
     "shell.execute_reply": "2022-10-31T08:05:57.538793Z"
    },
    "papermill": {
     "duration": 0.033495,
     "end_time": "2022-10-31T08:05:57.542783",
     "exception": false,
     "start_time": "2022-10-31T08:05:57.509288",
     "status": "completed"
    },
    "tags": []
   },
   "outputs": [
    {
     "data": {
      "text/plain": [
       "Pclass\n",
       "1    62.962963\n",
       "2    47.282609\n",
       "3    24.236253\n",
       "Name: Survived, dtype: float64"
      ]
     },
     "execution_count": 28,
     "metadata": {},
     "output_type": "execute_result"
    }
   ],
   "source": [
    "df.groupby('Pclass').mean()['Survived']*100\n",
    "#percent of survivors in each Pclass"
   ]
  },
  {
   "cell_type": "code",
   "execution_count": 29,
   "id": "60662e51",
   "metadata": {
    "execution": {
     "iopub.execute_input": "2022-10-31T08:05:57.584560Z",
     "iopub.status.busy": "2022-10-31T08:05:57.583817Z",
     "iopub.status.idle": "2022-10-31T08:05:57.801337Z",
     "shell.execute_reply": "2022-10-31T08:05:57.800348Z"
    },
    "papermill": {
     "duration": 0.243916,
     "end_time": "2022-10-31T08:05:57.804131",
     "exception": false,
     "start_time": "2022-10-31T08:05:57.560215",
     "status": "completed"
    },
    "tags": []
   },
   "outputs": [
    {
     "data": {
      "text/plain": [
       "<AxesSubplot:xlabel='Pclass', ylabel='Pclass'>"
      ]
     },
     "execution_count": 29,
     "metadata": {},
     "output_type": "execute_result"
    }
   ],
   "source": [
    "(df.groupby('Pclass').mean()['Survived']*100).plot(kind='bar')\n"
   ]
  },
  {
   "cell_type": "code",
   "execution_count": 30,
   "id": "81769650",
   "metadata": {
    "execution": {
     "iopub.execute_input": "2022-10-31T08:05:57.839550Z",
     "iopub.status.busy": "2022-10-31T08:05:57.839111Z",
     "iopub.status.idle": "2022-10-31T08:05:57.852692Z",
     "shell.execute_reply": "2022-10-31T08:05:57.851626Z"
    },
    "papermill": {
     "duration": 0.033112,
     "end_time": "2022-10-31T08:05:57.855037",
     "exception": false,
     "start_time": "2022-10-31T08:05:57.821925",
     "status": "completed"
    },
    "tags": []
   },
   "outputs": [
    {
     "data": {
      "text/plain": [
       "Sex\n",
       "female    74.203822\n",
       "male      18.890815\n",
       "Name: Survived, dtype: float64"
      ]
     },
     "execution_count": 30,
     "metadata": {},
     "output_type": "execute_result"
    }
   ],
   "source": [
    "df.groupby('Sex').mean()['Survived']*100"
   ]
  },
  {
   "cell_type": "code",
   "execution_count": 31,
   "id": "2f2f10b4",
   "metadata": {
    "execution": {
     "iopub.execute_input": "2022-10-31T08:05:57.888219Z",
     "iopub.status.busy": "2022-10-31T08:05:57.887502Z",
     "iopub.status.idle": "2022-10-31T08:05:57.898816Z",
     "shell.execute_reply": "2022-10-31T08:05:57.897640Z"
    },
    "papermill": {
     "duration": 0.031159,
     "end_time": "2022-10-31T08:05:57.901315",
     "exception": false,
     "start_time": "2022-10-31T08:05:57.870156",
     "status": "completed"
    },
    "tags": []
   },
   "outputs": [
    {
     "data": {
      "text/plain": [
       "Embarked\n",
       "C    55.357143\n",
       "Q    38.961039\n",
       "S    33.695652\n",
       "Name: Survived, dtype: float64"
      ]
     },
     "execution_count": 31,
     "metadata": {},
     "output_type": "execute_result"
    }
   ],
   "source": [
    "df.groupby('Embarked').mean()['Survived']*100"
   ]
  },
  {
   "cell_type": "markdown",
   "id": "3f99a93a",
   "metadata": {
    "papermill": {
     "duration": 0.015045,
     "end_time": "2022-10-31T08:05:57.932529",
     "exception": false,
     "start_time": "2022-10-31T08:05:57.917484",
     "status": "completed"
    },
    "tags": []
   },
   "source": [
    "\n",
    "\n",
    "***Clustermap***\n",
    "\n"
   ]
  },
  {
   "cell_type": "code",
   "execution_count": 32,
   "id": "376c14ed",
   "metadata": {
    "execution": {
     "iopub.execute_input": "2022-10-31T08:05:57.965804Z",
     "iopub.status.busy": "2022-10-31T08:05:57.965048Z",
     "iopub.status.idle": "2022-10-31T08:05:58.343180Z",
     "shell.execute_reply": "2022-10-31T08:05:58.341462Z"
    },
    "papermill": {
     "duration": 0.400538,
     "end_time": "2022-10-31T08:05:58.348516",
     "exception": false,
     "start_time": "2022-10-31T08:05:57.947978",
     "status": "completed"
    },
    "tags": []
   },
   "outputs": [
    {
     "data": {
      "text/plain": [
       "<seaborn.matrix.ClusterGrid at 0x7f6f039f32d0>"
      ]
     },
     "execution_count": 32,
     "metadata": {},
     "output_type": "execute_result"
    }
   ],
   "source": [
    "sns.clustermap(pd.crosstab(df['SibSp'],df['Survived']))"
   ]
  },
  {
   "cell_type": "code",
   "execution_count": 33,
   "id": "32824037",
   "metadata": {
    "execution": {
     "iopub.execute_input": "2022-10-31T08:05:58.396420Z",
     "iopub.status.busy": "2022-10-31T08:05:58.395976Z",
     "iopub.status.idle": "2022-10-31T08:05:58.780220Z",
     "shell.execute_reply": "2022-10-31T08:05:58.778210Z"
    },
    "papermill": {
     "duration": 0.406353,
     "end_time": "2022-10-31T08:05:58.785530",
     "exception": false,
     "start_time": "2022-10-31T08:05:58.379177",
     "status": "completed"
    },
    "tags": []
   },
   "outputs": [
    {
     "data": {
      "text/plain": [
       "<seaborn.matrix.ClusterGrid at 0x7f6f0f2cf610>"
      ]
     },
     "execution_count": 33,
     "metadata": {},
     "output_type": "execute_result"
    }
   ],
   "source": [
    "sns.clustermap(pd.crosstab(df['Parch'],df['Survived']))"
   ]
  },
  {
   "cell_type": "markdown",
   "id": "14bd4624",
   "metadata": {
    "papermill": {
     "duration": 0.015087,
     "end_time": "2022-10-31T08:05:58.826191",
     "exception": false,
     "start_time": "2022-10-31T08:05:58.811104",
     "status": "completed"
    },
    "tags": []
   },
   "source": [
    "\n",
    "\n",
    "***Pairplot***\n",
    "\n"
   ]
  },
  {
   "cell_type": "code",
   "execution_count": 34,
   "id": "4297f0ba",
   "metadata": {
    "execution": {
     "iopub.execute_input": "2022-10-31T08:05:58.859223Z",
     "iopub.status.busy": "2022-10-31T08:05:58.858553Z",
     "iopub.status.idle": "2022-10-31T08:05:58.876841Z",
     "shell.execute_reply": "2022-10-31T08:05:58.875588Z"
    },
    "papermill": {
     "duration": 0.03715,
     "end_time": "2022-10-31T08:05:58.879080",
     "exception": false,
     "start_time": "2022-10-31T08:05:58.841930",
     "status": "completed"
    },
    "tags": []
   },
   "outputs": [
    {
     "data": {
      "text/html": [
       "<div>\n",
       "<style scoped>\n",
       "    .dataframe tbody tr th:only-of-type {\n",
       "        vertical-align: middle;\n",
       "    }\n",
       "\n",
       "    .dataframe tbody tr th {\n",
       "        vertical-align: top;\n",
       "    }\n",
       "\n",
       "    .dataframe thead th {\n",
       "        text-align: right;\n",
       "    }\n",
       "</style>\n",
       "<table border=\"1\" class=\"dataframe\">\n",
       "  <thead>\n",
       "    <tr style=\"text-align: right;\">\n",
       "      <th></th>\n",
       "      <th>PassengerId</th>\n",
       "      <th>Survived</th>\n",
       "      <th>Pclass</th>\n",
       "      <th>Name</th>\n",
       "      <th>Sex</th>\n",
       "      <th>Age</th>\n",
       "      <th>SibSp</th>\n",
       "      <th>Parch</th>\n",
       "      <th>Ticket</th>\n",
       "      <th>Fare</th>\n",
       "      <th>Cabin</th>\n",
       "      <th>Embarked</th>\n",
       "    </tr>\n",
       "  </thead>\n",
       "  <tbody>\n",
       "    <tr>\n",
       "      <th>0</th>\n",
       "      <td>1</td>\n",
       "      <td>0</td>\n",
       "      <td>3</td>\n",
       "      <td>Braund, Mr. Owen Harris</td>\n",
       "      <td>male</td>\n",
       "      <td>22.0</td>\n",
       "      <td>1</td>\n",
       "      <td>0</td>\n",
       "      <td>A/5 21171</td>\n",
       "      <td>7.2500</td>\n",
       "      <td>NaN</td>\n",
       "      <td>S</td>\n",
       "    </tr>\n",
       "    <tr>\n",
       "      <th>1</th>\n",
       "      <td>2</td>\n",
       "      <td>1</td>\n",
       "      <td>1</td>\n",
       "      <td>Cumings, Mrs. John Bradley (Florence Briggs Th...</td>\n",
       "      <td>female</td>\n",
       "      <td>38.0</td>\n",
       "      <td>1</td>\n",
       "      <td>0</td>\n",
       "      <td>PC 17599</td>\n",
       "      <td>71.2833</td>\n",
       "      <td>C85</td>\n",
       "      <td>C</td>\n",
       "    </tr>\n",
       "    <tr>\n",
       "      <th>2</th>\n",
       "      <td>3</td>\n",
       "      <td>1</td>\n",
       "      <td>3</td>\n",
       "      <td>Heikkinen, Miss. Laina</td>\n",
       "      <td>female</td>\n",
       "      <td>26.0</td>\n",
       "      <td>0</td>\n",
       "      <td>0</td>\n",
       "      <td>STON/O2. 3101282</td>\n",
       "      <td>7.9250</td>\n",
       "      <td>NaN</td>\n",
       "      <td>S</td>\n",
       "    </tr>\n",
       "    <tr>\n",
       "      <th>3</th>\n",
       "      <td>4</td>\n",
       "      <td>1</td>\n",
       "      <td>1</td>\n",
       "      <td>Futrelle, Mrs. Jacques Heath (Lily May Peel)</td>\n",
       "      <td>female</td>\n",
       "      <td>35.0</td>\n",
       "      <td>1</td>\n",
       "      <td>0</td>\n",
       "      <td>113803</td>\n",
       "      <td>53.1000</td>\n",
       "      <td>C123</td>\n",
       "      <td>S</td>\n",
       "    </tr>\n",
       "    <tr>\n",
       "      <th>4</th>\n",
       "      <td>5</td>\n",
       "      <td>0</td>\n",
       "      <td>3</td>\n",
       "      <td>Allen, Mr. William Henry</td>\n",
       "      <td>male</td>\n",
       "      <td>35.0</td>\n",
       "      <td>0</td>\n",
       "      <td>0</td>\n",
       "      <td>373450</td>\n",
       "      <td>8.0500</td>\n",
       "      <td>NaN</td>\n",
       "      <td>S</td>\n",
       "    </tr>\n",
       "  </tbody>\n",
       "</table>\n",
       "</div>"
      ],
      "text/plain": [
       "   PassengerId  Survived  Pclass  \\\n",
       "0            1         0       3   \n",
       "1            2         1       1   \n",
       "2            3         1       3   \n",
       "3            4         1       1   \n",
       "4            5         0       3   \n",
       "\n",
       "                                                Name     Sex   Age  SibSp  \\\n",
       "0                            Braund, Mr. Owen Harris    male  22.0      1   \n",
       "1  Cumings, Mrs. John Bradley (Florence Briggs Th...  female  38.0      1   \n",
       "2                             Heikkinen, Miss. Laina  female  26.0      0   \n",
       "3       Futrelle, Mrs. Jacques Heath (Lily May Peel)  female  35.0      1   \n",
       "4                           Allen, Mr. William Henry    male  35.0      0   \n",
       "\n",
       "   Parch            Ticket     Fare Cabin Embarked  \n",
       "0      0         A/5 21171   7.2500   NaN        S  \n",
       "1      0          PC 17599  71.2833   C85        C  \n",
       "2      0  STON/O2. 3101282   7.9250   NaN        S  \n",
       "3      0            113803  53.1000  C123        S  \n",
       "4      0            373450   8.0500   NaN        S  "
      ]
     },
     "execution_count": 34,
     "metadata": {},
     "output_type": "execute_result"
    }
   ],
   "source": [
    "df.head()"
   ]
  },
  {
   "cell_type": "code",
   "execution_count": 35,
   "id": "7dc1414f",
   "metadata": {
    "execution": {
     "iopub.execute_input": "2022-10-31T08:05:58.913920Z",
     "iopub.status.busy": "2022-10-31T08:05:58.913130Z",
     "iopub.status.idle": "2022-10-31T08:06:01.103546Z",
     "shell.execute_reply": "2022-10-31T08:06:01.102621Z"
    },
    "papermill": {
     "duration": 2.211799,
     "end_time": "2022-10-31T08:06:01.106575",
     "exception": false,
     "start_time": "2022-10-31T08:05:58.894776",
     "status": "completed"
    },
    "tags": []
   },
   "outputs": [
    {
     "data": {
      "text/plain": [
       "<seaborn.axisgrid.PairGrid at 0x7f6f0193a590>"
      ]
     },
     "execution_count": 35,
     "metadata": {},
     "output_type": "execute_result"
    }
   ],
   "source": [
    "df_1=df[['Pclass','Age','Fare','Sex','Survived']]\n",
    "sns.pairplot(df_1,hue='Pclass')"
   ]
  },
  {
   "cell_type": "markdown",
   "id": "5c221f46",
   "metadata": {
    "papermill": {
     "duration": 0.015946,
     "end_time": "2022-10-31T08:06:01.138799",
     "exception": false,
     "start_time": "2022-10-31T08:06:01.122853",
     "status": "completed"
    },
    "tags": []
   },
   "source": [
    "\n",
    "***Lineplot***\n",
    "\n"
   ]
  },
  {
   "cell_type": "code",
   "execution_count": 36,
   "id": "666d1fb5",
   "metadata": {
    "execution": {
     "iopub.execute_input": "2022-10-31T08:06:01.172886Z",
     "iopub.status.busy": "2022-10-31T08:06:01.172439Z",
     "iopub.status.idle": "2022-10-31T08:06:01.588300Z",
     "shell.execute_reply": "2022-10-31T08:06:01.587207Z"
    },
    "papermill": {
     "duration": 0.436353,
     "end_time": "2022-10-31T08:06:01.591176",
     "exception": false,
     "start_time": "2022-10-31T08:06:01.154823",
     "status": "completed"
    },
    "tags": []
   },
   "outputs": [
    {
     "name": "stderr",
     "output_type": "stream",
     "text": [
      "/opt/conda/lib/python3.7/site-packages/seaborn/_decorators.py:43: FutureWarning: Pass the following variables as keyword args: x, y. From version 0.12, the only valid positional argument will be `data`, and passing other arguments without an explicit keyword will result in an error or misinterpretation.\n",
      "  FutureWarning\n"
     ]
    },
    {
     "data": {
      "text/plain": [
       "<AxesSubplot:xlabel='Survived', ylabel='Density'>"
      ]
     },
     "execution_count": 36,
     "metadata": {},
     "output_type": "execute_result"
    }
   ],
   "source": [
    "sns.lineplot(df['Pclass'],df['Fare'])"
   ]
  },
  {
   "cell_type": "markdown",
   "id": "0fb1fc76",
   "metadata": {
    "papermill": {
     "duration": 0.01553,
     "end_time": "2022-10-31T08:06:01.623664",
     "exception": false,
     "start_time": "2022-10-31T08:06:01.608134",
     "status": "completed"
    },
    "tags": []
   },
   "source": [
    "***Pivot Table***"
   ]
  },
  {
   "cell_type": "code",
   "execution_count": 37,
   "id": "6c3ae028",
   "metadata": {
    "execution": {
     "iopub.execute_input": "2022-10-31T08:06:01.657351Z",
     "iopub.status.busy": "2022-10-31T08:06:01.656960Z",
     "iopub.status.idle": "2022-10-31T08:06:01.678740Z",
     "shell.execute_reply": "2022-10-31T08:06:01.677867Z"
    },
    "papermill": {
     "duration": 0.041491,
     "end_time": "2022-10-31T08:06:01.681109",
     "exception": false,
     "start_time": "2022-10-31T08:06:01.639618",
     "status": "completed"
    },
    "tags": []
   },
   "outputs": [
    {
     "data": {
      "text/html": [
       "<div>\n",
       "<style scoped>\n",
       "    .dataframe tbody tr th:only-of-type {\n",
       "        vertical-align: middle;\n",
       "    }\n",
       "\n",
       "    .dataframe tbody tr th {\n",
       "        vertical-align: top;\n",
       "    }\n",
       "\n",
       "    .dataframe thead th {\n",
       "        text-align: right;\n",
       "    }\n",
       "</style>\n",
       "<table border=\"1\" class=\"dataframe\">\n",
       "  <thead>\n",
       "    <tr style=\"text-align: right;\">\n",
       "      <th>Survived</th>\n",
       "      <th>0</th>\n",
       "      <th>1</th>\n",
       "    </tr>\n",
       "    <tr>\n",
       "      <th>Pclass</th>\n",
       "      <th></th>\n",
       "      <th></th>\n",
       "    </tr>\n",
       "  </thead>\n",
       "  <tbody>\n",
       "    <tr>\n",
       "      <th>1</th>\n",
       "      <td>43.695312</td>\n",
       "      <td>35.368197</td>\n",
       "    </tr>\n",
       "    <tr>\n",
       "      <th>2</th>\n",
       "      <td>33.544444</td>\n",
       "      <td>25.901566</td>\n",
       "    </tr>\n",
       "    <tr>\n",
       "      <th>3</th>\n",
       "      <td>26.555556</td>\n",
       "      <td>20.646118</td>\n",
       "    </tr>\n",
       "  </tbody>\n",
       "</table>\n",
       "</div>"
      ],
      "text/plain": [
       "Survived          0          1\n",
       "Pclass                        \n",
       "1         43.695312  35.368197\n",
       "2         33.544444  25.901566\n",
       "3         26.555556  20.646118"
      ]
     },
     "execution_count": 37,
     "metadata": {},
     "output_type": "execute_result"
    }
   ],
   "source": [
    "df.pivot_table(values='Age',index='Pclass',columns='Survived')"
   ]
  },
  {
   "cell_type": "code",
   "execution_count": 38,
   "id": "8a756f45",
   "metadata": {
    "execution": {
     "iopub.execute_input": "2022-10-31T08:06:01.716047Z",
     "iopub.status.busy": "2022-10-31T08:06:01.715294Z",
     "iopub.status.idle": "2022-10-31T08:06:01.719239Z",
     "shell.execute_reply": "2022-10-31T08:06:01.718454Z"
    },
    "papermill": {
     "duration": 0.023844,
     "end_time": "2022-10-31T08:06:01.721466",
     "exception": false,
     "start_time": "2022-10-31T08:06:01.697622",
     "status": "completed"
    },
    "tags": []
   },
   "outputs": [],
   "source": [
    "#lineplot or pivot table no so useful in this case"
   ]
  }
 ],
 "metadata": {
  "kernelspec": {
   "display_name": "Python 3",
   "language": "python",
   "name": "python3"
  },
  "language_info": {
   "codemirror_mode": {
    "name": "ipython",
    "version": 3
   },
   "file_extension": ".py",
   "mimetype": "text/x-python",
   "name": "python",
   "nbconvert_exporter": "python",
   "pygments_lexer": "ipython3",
   "version": "3.7.12"
  },
  "papermill": {
   "default_parameters": {},
   "duration": 53.882738,
   "end_time": "2022-10-31T08:06:04.361225",
   "environment_variables": {},
   "exception": null,
   "input_path": "__notebook__.ipynb",
   "output_path": "__notebook__.ipynb",
   "parameters": {},
   "start_time": "2022-10-31T08:05:10.478487",
   "version": "2.3.4"
  },
  "widgets": {
   "application/vnd.jupyter.widget-state+json": {
    "state": {
     "037b9cbad0d54a869d55dd770bd06a8d": {
      "model_module": "@jupyter-widgets/controls",
      "model_module_version": "1.5.0",
      "model_name": "DescriptionStyleModel",
      "state": {
       "_model_module": "@jupyter-widgets/controls",
       "_model_module_version": "1.5.0",
       "_model_name": "DescriptionStyleModel",
       "_view_count": null,
       "_view_module": "@jupyter-widgets/base",
       "_view_module_version": "1.2.0",
       "_view_name": "StyleView",
       "description_width": ""
      }
     },
     "0d3e003653f04bdb90850540dd8c96cc": {
      "model_module": "@jupyter-widgets/base",
      "model_module_version": "1.2.0",
      "model_name": "LayoutModel",
      "state": {
       "_model_module": "@jupyter-widgets/base",
       "_model_module_version": "1.2.0",
       "_model_name": "LayoutModel",
       "_view_count": null,
       "_view_module": "@jupyter-widgets/base",
       "_view_module_version": "1.2.0",
       "_view_name": "LayoutView",
       "align_content": null,
       "align_items": null,
       "align_self": null,
       "border": null,
       "bottom": null,
       "display": null,
       "flex": null,
       "flex_flow": null,
       "grid_area": null,
       "grid_auto_columns": null,
       "grid_auto_flow": null,
       "grid_auto_rows": null,
       "grid_column": null,
       "grid_gap": null,
       "grid_row": null,
       "grid_template_areas": null,
       "grid_template_columns": null,
       "grid_template_rows": null,
       "height": null,
       "justify_content": null,
       "justify_items": null,
       "left": null,
       "margin": null,
       "max_height": null,
       "max_width": null,
       "min_height": null,
       "min_width": null,
       "object_fit": null,
       "object_position": null,
       "order": null,
       "overflow": null,
       "overflow_x": null,
       "overflow_y": null,
       "padding": null,
       "right": null,
       "top": null,
       "visibility": null,
       "width": null
      }
     },
     "0d75403512ec4c109ec2fb7d8c7d4e2c": {
      "model_module": "@jupyter-widgets/base",
      "model_module_version": "1.2.0",
      "model_name": "LayoutModel",
      "state": {
       "_model_module": "@jupyter-widgets/base",
       "_model_module_version": "1.2.0",
       "_model_name": "LayoutModel",
       "_view_count": null,
       "_view_module": "@jupyter-widgets/base",
       "_view_module_version": "1.2.0",
       "_view_name": "LayoutView",
       "align_content": null,
       "align_items": null,
       "align_self": null,
       "border": null,
       "bottom": null,
       "display": null,
       "flex": null,
       "flex_flow": null,
       "grid_area": null,
       "grid_auto_columns": null,
       "grid_auto_flow": null,
       "grid_auto_rows": null,
       "grid_column": null,
       "grid_gap": null,
       "grid_row": null,
       "grid_template_areas": null,
       "grid_template_columns": null,
       "grid_template_rows": null,
       "height": null,
       "justify_content": null,
       "justify_items": null,
       "left": null,
       "margin": null,
       "max_height": null,
       "max_width": null,
       "min_height": null,
       "min_width": null,
       "object_fit": null,
       "object_position": null,
       "order": null,
       "overflow": null,
       "overflow_x": null,
       "overflow_y": null,
       "padding": null,
       "right": null,
       "top": null,
       "visibility": null,
       "width": null
      }
     },
     "0e3b35a298364501af6a7692fb5e3a87": {
      "model_module": "@jupyter-widgets/base",
      "model_module_version": "1.2.0",
      "model_name": "LayoutModel",
      "state": {
       "_model_module": "@jupyter-widgets/base",
       "_model_module_version": "1.2.0",
       "_model_name": "LayoutModel",
       "_view_count": null,
       "_view_module": "@jupyter-widgets/base",
       "_view_module_version": "1.2.0",
       "_view_name": "LayoutView",
       "align_content": null,
       "align_items": null,
       "align_self": null,
       "border": null,
       "bottom": null,
       "display": null,
       "flex": null,
       "flex_flow": null,
       "grid_area": null,
       "grid_auto_columns": null,
       "grid_auto_flow": null,
       "grid_auto_rows": null,
       "grid_column": null,
       "grid_gap": null,
       "grid_row": null,
       "grid_template_areas": null,
       "grid_template_columns": null,
       "grid_template_rows": null,
       "height": null,
       "justify_content": null,
       "justify_items": null,
       "left": null,
       "margin": null,
       "max_height": null,
       "max_width": null,
       "min_height": null,
       "min_width": null,
       "object_fit": null,
       "object_position": null,
       "order": null,
       "overflow": null,
       "overflow_x": null,
       "overflow_y": null,
       "padding": null,
       "right": null,
       "top": null,
       "visibility": null,
       "width": null
      }
     },
     "1b10e236d9cd453cbe145363abe06908": {
      "model_module": "@jupyter-widgets/controls",
      "model_module_version": "1.5.0",
      "model_name": "HTMLModel",
      "state": {
       "_dom_classes": [],
       "_model_module": "@jupyter-widgets/controls",
       "_model_module_version": "1.5.0",
       "_model_name": "HTMLModel",
       "_view_count": null,
       "_view_module": "@jupyter-widgets/controls",
       "_view_module_version": "1.5.0",
       "_view_name": "HTMLView",
       "description": "",
       "description_tooltip": null,
       "layout": "IPY_MODEL_3ddfbd98a1f94d2e8e61d62d5a0f89ae",
       "placeholder": "​",
       "style": "IPY_MODEL_24d122b0979e42bab8fb5ee6da374300",
       "value": "Export report to file: 100%"
      }
     },
     "24d122b0979e42bab8fb5ee6da374300": {
      "model_module": "@jupyter-widgets/controls",
      "model_module_version": "1.5.0",
      "model_name": "DescriptionStyleModel",
      "state": {
       "_model_module": "@jupyter-widgets/controls",
       "_model_module_version": "1.5.0",
       "_model_name": "DescriptionStyleModel",
       "_view_count": null,
       "_view_module": "@jupyter-widgets/base",
       "_view_module_version": "1.2.0",
       "_view_name": "StyleView",
       "description_width": ""
      }
     },
     "2829cfe12e2f453fb4f2c1eac0e0b7b7": {
      "model_module": "@jupyter-widgets/controls",
      "model_module_version": "1.5.0",
      "model_name": "DescriptionStyleModel",
      "state": {
       "_model_module": "@jupyter-widgets/controls",
       "_model_module_version": "1.5.0",
       "_model_name": "DescriptionStyleModel",
       "_view_count": null,
       "_view_module": "@jupyter-widgets/base",
       "_view_module_version": "1.2.0",
       "_view_name": "StyleView",
       "description_width": ""
      }
     },
     "31c1f0d0b8e54a12887020c9ce2bae35": {
      "model_module": "@jupyter-widgets/base",
      "model_module_version": "1.2.0",
      "model_name": "LayoutModel",
      "state": {
       "_model_module": "@jupyter-widgets/base",
       "_model_module_version": "1.2.0",
       "_model_name": "LayoutModel",
       "_view_count": null,
       "_view_module": "@jupyter-widgets/base",
       "_view_module_version": "1.2.0",
       "_view_name": "LayoutView",
       "align_content": null,
       "align_items": null,
       "align_self": null,
       "border": null,
       "bottom": null,
       "display": null,
       "flex": null,
       "flex_flow": null,
       "grid_area": null,
       "grid_auto_columns": null,
       "grid_auto_flow": null,
       "grid_auto_rows": null,
       "grid_column": null,
       "grid_gap": null,
       "grid_row": null,
       "grid_template_areas": null,
       "grid_template_columns": null,
       "grid_template_rows": null,
       "height": null,
       "justify_content": null,
       "justify_items": null,
       "left": null,
       "margin": null,
       "max_height": null,
       "max_width": null,
       "min_height": null,
       "min_width": null,
       "object_fit": null,
       "object_position": null,
       "order": null,
       "overflow": null,
       "overflow_x": null,
       "overflow_y": null,
       "padding": null,
       "right": null,
       "top": null,
       "visibility": null,
       "width": null
      }
     },
     "3a810f349e934fadabcf4d5c7619a2a1": {
      "model_module": "@jupyter-widgets/base",
      "model_module_version": "1.2.0",
      "model_name": "LayoutModel",
      "state": {
       "_model_module": "@jupyter-widgets/base",
       "_model_module_version": "1.2.0",
       "_model_name": "LayoutModel",
       "_view_count": null,
       "_view_module": "@jupyter-widgets/base",
       "_view_module_version": "1.2.0",
       "_view_name": "LayoutView",
       "align_content": null,
       "align_items": null,
       "align_self": null,
       "border": null,
       "bottom": null,
       "display": null,
       "flex": null,
       "flex_flow": null,
       "grid_area": null,
       "grid_auto_columns": null,
       "grid_auto_flow": null,
       "grid_auto_rows": null,
       "grid_column": null,
       "grid_gap": null,
       "grid_row": null,
       "grid_template_areas": null,
       "grid_template_columns": null,
       "grid_template_rows": null,
       "height": null,
       "justify_content": null,
       "justify_items": null,
       "left": null,
       "margin": null,
       "max_height": null,
       "max_width": null,
       "min_height": null,
       "min_width": null,
       "object_fit": null,
       "object_position": null,
       "order": null,
       "overflow": null,
       "overflow_x": null,
       "overflow_y": null,
       "padding": null,
       "right": null,
       "top": null,
       "visibility": null,
       "width": null
      }
     },
     "3ddfbd98a1f94d2e8e61d62d5a0f89ae": {
      "model_module": "@jupyter-widgets/base",
      "model_module_version": "1.2.0",
      "model_name": "LayoutModel",
      "state": {
       "_model_module": "@jupyter-widgets/base",
       "_model_module_version": "1.2.0",
       "_model_name": "LayoutModel",
       "_view_count": null,
       "_view_module": "@jupyter-widgets/base",
       "_view_module_version": "1.2.0",
       "_view_name": "LayoutView",
       "align_content": null,
       "align_items": null,
       "align_self": null,
       "border": null,
       "bottom": null,
       "display": null,
       "flex": null,
       "flex_flow": null,
       "grid_area": null,
       "grid_auto_columns": null,
       "grid_auto_flow": null,
       "grid_auto_rows": null,
       "grid_column": null,
       "grid_gap": null,
       "grid_row": null,
       "grid_template_areas": null,
       "grid_template_columns": null,
       "grid_template_rows": null,
       "height": null,
       "justify_content": null,
       "justify_items": null,
       "left": null,
       "margin": null,
       "max_height": null,
       "max_width": null,
       "min_height": null,
       "min_width": null,
       "object_fit": null,
       "object_position": null,
       "order": null,
       "overflow": null,
       "overflow_x": null,
       "overflow_y": null,
       "padding": null,
       "right": null,
       "top": null,
       "visibility": null,
       "width": null
      }
     },
     "41acb9c4eba7421c8ab37d90e9035021": {
      "model_module": "@jupyter-widgets/base",
      "model_module_version": "1.2.0",
      "model_name": "LayoutModel",
      "state": {
       "_model_module": "@jupyter-widgets/base",
       "_model_module_version": "1.2.0",
       "_model_name": "LayoutModel",
       "_view_count": null,
       "_view_module": "@jupyter-widgets/base",
       "_view_module_version": "1.2.0",
       "_view_name": "LayoutView",
       "align_content": null,
       "align_items": null,
       "align_self": null,
       "border": null,
       "bottom": null,
       "display": null,
       "flex": null,
       "flex_flow": null,
       "grid_area": null,
       "grid_auto_columns": null,
       "grid_auto_flow": null,
       "grid_auto_rows": null,
       "grid_column": null,
       "grid_gap": null,
       "grid_row": null,
       "grid_template_areas": null,
       "grid_template_columns": null,
       "grid_template_rows": null,
       "height": null,
       "justify_content": null,
       "justify_items": null,
       "left": null,
       "margin": null,
       "max_height": null,
       "max_width": null,
       "min_height": null,
       "min_width": null,
       "object_fit": null,
       "object_position": null,
       "order": null,
       "overflow": null,
       "overflow_x": null,
       "overflow_y": null,
       "padding": null,
       "right": null,
       "top": null,
       "visibility": null,
       "width": null
      }
     },
     "4748a6de564c412a82faf350d6f26e05": {
      "model_module": "@jupyter-widgets/controls",
      "model_module_version": "1.5.0",
      "model_name": "ProgressStyleModel",
      "state": {
       "_model_module": "@jupyter-widgets/controls",
       "_model_module_version": "1.5.0",
       "_model_name": "ProgressStyleModel",
       "_view_count": null,
       "_view_module": "@jupyter-widgets/base",
       "_view_module_version": "1.2.0",
       "_view_name": "StyleView",
       "bar_color": null,
       "description_width": ""
      }
     },
     "52dcdc361e5c4d3c8b3cc6d20e706e53": {
      "model_module": "@jupyter-widgets/controls",
      "model_module_version": "1.5.0",
      "model_name": "HBoxModel",
      "state": {
       "_dom_classes": [],
       "_model_module": "@jupyter-widgets/controls",
       "_model_module_version": "1.5.0",
       "_model_name": "HBoxModel",
       "_view_count": null,
       "_view_module": "@jupyter-widgets/controls",
       "_view_module_version": "1.5.0",
       "_view_name": "HBoxView",
       "box_style": "",
       "children": [
        "IPY_MODEL_1b10e236d9cd453cbe145363abe06908",
        "IPY_MODEL_7f98a607aad34d30ab16fe1f71a24d7e",
        "IPY_MODEL_86707d3a017444d1aa517e4bd94ee44f"
       ],
       "layout": "IPY_MODEL_c77a6c9ac8d046d28e6eb42c40f5db8c"
      }
     },
     "5474dd096c534374921fd3d778c152fd": {
      "model_module": "@jupyter-widgets/controls",
      "model_module_version": "1.5.0",
      "model_name": "FloatProgressModel",
      "state": {
       "_dom_classes": [],
       "_model_module": "@jupyter-widgets/controls",
       "_model_module_version": "1.5.0",
       "_model_name": "FloatProgressModel",
       "_view_count": null,
       "_view_module": "@jupyter-widgets/controls",
       "_view_module_version": "1.5.0",
       "_view_name": "ProgressView",
       "bar_style": "success",
       "description": "",
       "description_tooltip": null,
       "layout": "IPY_MODEL_0e3b35a298364501af6a7692fb5e3a87",
       "max": 1.0,
       "min": 0.0,
       "orientation": "horizontal",
       "style": "IPY_MODEL_978add791bd94c1a90e31e6f97411462",
       "value": 1.0
      }
     },
     "58df1e0f802f421cb60b801ba4bdae43": {
      "model_module": "@jupyter-widgets/controls",
      "model_module_version": "1.5.0",
      "model_name": "HBoxModel",
      "state": {
       "_dom_classes": [],
       "_model_module": "@jupyter-widgets/controls",
       "_model_module_version": "1.5.0",
       "_model_name": "HBoxModel",
       "_view_count": null,
       "_view_module": "@jupyter-widgets/controls",
       "_view_module_version": "1.5.0",
       "_view_name": "HBoxView",
       "box_style": "",
       "children": [
        "IPY_MODEL_69d0bd8b43454049a0b6149592c9fcf1",
        "IPY_MODEL_770d19545d92434eb548fb44d908205d",
        "IPY_MODEL_7472673bc41d452b80bf0feec0ffdd47"
       ],
       "layout": "IPY_MODEL_d66be04a74344b189421c86ef6950975"
      }
     },
     "69d0bd8b43454049a0b6149592c9fcf1": {
      "model_module": "@jupyter-widgets/controls",
      "model_module_version": "1.5.0",
      "model_name": "HTMLModel",
      "state": {
       "_dom_classes": [],
       "_model_module": "@jupyter-widgets/controls",
       "_model_module_version": "1.5.0",
       "_model_name": "HTMLModel",
       "_view_count": null,
       "_view_module": "@jupyter-widgets/controls",
       "_view_module_version": "1.5.0",
       "_view_name": "HTMLView",
       "description": "",
       "description_tooltip": null,
       "layout": "IPY_MODEL_0d75403512ec4c109ec2fb7d8c7d4e2c",
       "placeholder": "​",
       "style": "IPY_MODEL_858f9ba0f389438b856d5733b4713f1d",
       "value": "Summarize dataset: 100%"
      }
     },
     "6d38ab2986004b4c97a80d001cba96e8": {
      "model_module": "@jupyter-widgets/controls",
      "model_module_version": "1.5.0",
      "model_name": "HBoxModel",
      "state": {
       "_dom_classes": [],
       "_model_module": "@jupyter-widgets/controls",
       "_model_module_version": "1.5.0",
       "_model_name": "HBoxModel",
       "_view_count": null,
       "_view_module": "@jupyter-widgets/controls",
       "_view_module_version": "1.5.0",
       "_view_name": "HBoxView",
       "box_style": "",
       "children": [
        "IPY_MODEL_cc0e1860c835407dbe25adcb039e7dcb",
        "IPY_MODEL_5474dd096c534374921fd3d778c152fd",
        "IPY_MODEL_c481b3a7966b4aa08d7a0c4d20f1354c"
       ],
       "layout": "IPY_MODEL_9197055c0fa1424caf0efb619c0adb27"
      }
     },
     "6d888a3087c04794b56665c6a7da2ce3": {
      "model_module": "@jupyter-widgets/controls",
      "model_module_version": "1.5.0",
      "model_name": "ProgressStyleModel",
      "state": {
       "_model_module": "@jupyter-widgets/controls",
       "_model_module_version": "1.5.0",
       "_model_name": "ProgressStyleModel",
       "_view_count": null,
       "_view_module": "@jupyter-widgets/base",
       "_view_module_version": "1.2.0",
       "_view_name": "StyleView",
       "bar_color": null,
       "description_width": ""
      }
     },
     "7472673bc41d452b80bf0feec0ffdd47": {
      "model_module": "@jupyter-widgets/controls",
      "model_module_version": "1.5.0",
      "model_name": "HTMLModel",
      "state": {
       "_dom_classes": [],
       "_model_module": "@jupyter-widgets/controls",
       "_model_module_version": "1.5.0",
       "_model_name": "HTMLModel",
       "_view_count": null,
       "_view_module": "@jupyter-widgets/controls",
       "_view_module_version": "1.5.0",
       "_view_name": "HTMLView",
       "description": "",
       "description_tooltip": null,
       "layout": "IPY_MODEL_3a810f349e934fadabcf4d5c7619a2a1",
       "placeholder": "​",
       "style": "IPY_MODEL_c8461cc77bdf4be99d5968c6f5fd58ac",
       "value": " 52/52 [00:10&lt;00:00,  3.47it/s, Completed]"
      }
     },
     "770d19545d92434eb548fb44d908205d": {
      "model_module": "@jupyter-widgets/controls",
      "model_module_version": "1.5.0",
      "model_name": "FloatProgressModel",
      "state": {
       "_dom_classes": [],
       "_model_module": "@jupyter-widgets/controls",
       "_model_module_version": "1.5.0",
       "_model_name": "FloatProgressModel",
       "_view_count": null,
       "_view_module": "@jupyter-widgets/controls",
       "_view_module_version": "1.5.0",
       "_view_name": "ProgressView",
       "bar_style": "success",
       "description": "",
       "description_tooltip": null,
       "layout": "IPY_MODEL_41acb9c4eba7421c8ab37d90e9035021",
       "max": 5.0,
       "min": 0.0,
       "orientation": "horizontal",
       "style": "IPY_MODEL_4748a6de564c412a82faf350d6f26e05",
       "value": 5.0
      }
     },
     "7f98a607aad34d30ab16fe1f71a24d7e": {
      "model_module": "@jupyter-widgets/controls",
      "model_module_version": "1.5.0",
      "model_name": "FloatProgressModel",
      "state": {
       "_dom_classes": [],
       "_model_module": "@jupyter-widgets/controls",
       "_model_module_version": "1.5.0",
       "_model_name": "FloatProgressModel",
       "_view_count": null,
       "_view_module": "@jupyter-widgets/controls",
       "_view_module_version": "1.5.0",
       "_view_name": "ProgressView",
       "bar_style": "success",
       "description": "",
       "description_tooltip": null,
       "layout": "IPY_MODEL_c4bd91b755574bb6ab1cef2bf00ab11d",
       "max": 1.0,
       "min": 0.0,
       "orientation": "horizontal",
       "style": "IPY_MODEL_c80a2587874b4c2eafa7845d34ee0994",
       "value": 1.0
      }
     },
     "858f9ba0f389438b856d5733b4713f1d": {
      "model_module": "@jupyter-widgets/controls",
      "model_module_version": "1.5.0",
      "model_name": "DescriptionStyleModel",
      "state": {
       "_model_module": "@jupyter-widgets/controls",
       "_model_module_version": "1.5.0",
       "_model_name": "DescriptionStyleModel",
       "_view_count": null,
       "_view_module": "@jupyter-widgets/base",
       "_view_module_version": "1.2.0",
       "_view_name": "StyleView",
       "description_width": ""
      }
     },
     "86707d3a017444d1aa517e4bd94ee44f": {
      "model_module": "@jupyter-widgets/controls",
      "model_module_version": "1.5.0",
      "model_name": "HTMLModel",
      "state": {
       "_dom_classes": [],
       "_model_module": "@jupyter-widgets/controls",
       "_model_module_version": "1.5.0",
       "_model_name": "HTMLModel",
       "_view_count": null,
       "_view_module": "@jupyter-widgets/controls",
       "_view_module_version": "1.5.0",
       "_view_name": "HTMLView",
       "description": "",
       "description_tooltip": null,
       "layout": "IPY_MODEL_f5b2dc62503142a6a927c28e692b8c05",
       "placeholder": "​",
       "style": "IPY_MODEL_a92e64af54de47c7ae381d95c605cc8a",
       "value": " 1/1 [00:00&lt;00:00, 22.39it/s]"
      }
     },
     "8e555013c34c47c0bf9ebde6c1e0d856": {
      "model_module": "@jupyter-widgets/controls",
      "model_module_version": "1.5.0",
      "model_name": "HTMLModel",
      "state": {
       "_dom_classes": [],
       "_model_module": "@jupyter-widgets/controls",
       "_model_module_version": "1.5.0",
       "_model_name": "HTMLModel",
       "_view_count": null,
       "_view_module": "@jupyter-widgets/controls",
       "_view_module_version": "1.5.0",
       "_view_name": "HTMLView",
       "description": "",
       "description_tooltip": null,
       "layout": "IPY_MODEL_fe60f0c40d45485481575f7a5004b1de",
       "placeholder": "​",
       "style": "IPY_MODEL_2829cfe12e2f453fb4f2c1eac0e0b7b7",
       "value": " 1/1 [00:02&lt;00:00,  2.03s/it]"
      }
     },
     "8ec57909090b4f02892a7a1112e1d879": {
      "model_module": "@jupyter-widgets/controls",
      "model_module_version": "1.5.0",
      "model_name": "HTMLModel",
      "state": {
       "_dom_classes": [],
       "_model_module": "@jupyter-widgets/controls",
       "_model_module_version": "1.5.0",
       "_model_name": "HTMLModel",
       "_view_count": null,
       "_view_module": "@jupyter-widgets/controls",
       "_view_module_version": "1.5.0",
       "_view_name": "HTMLView",
       "description": "",
       "description_tooltip": null,
       "layout": "IPY_MODEL_31c1f0d0b8e54a12887020c9ce2bae35",
       "placeholder": "​",
       "style": "IPY_MODEL_f1480a9435d1459caf6c710ad15298fc",
       "value": "Render HTML: 100%"
      }
     },
     "9197055c0fa1424caf0efb619c0adb27": {
      "model_module": "@jupyter-widgets/base",
      "model_module_version": "1.2.0",
      "model_name": "LayoutModel",
      "state": {
       "_model_module": "@jupyter-widgets/base",
       "_model_module_version": "1.2.0",
       "_model_name": "LayoutModel",
       "_view_count": null,
       "_view_module": "@jupyter-widgets/base",
       "_view_module_version": "1.2.0",
       "_view_name": "LayoutView",
       "align_content": null,
       "align_items": null,
       "align_self": null,
       "border": null,
       "bottom": null,
       "display": null,
       "flex": null,
       "flex_flow": null,
       "grid_area": null,
       "grid_auto_columns": null,
       "grid_auto_flow": null,
       "grid_auto_rows": null,
       "grid_column": null,
       "grid_gap": null,
       "grid_row": null,
       "grid_template_areas": null,
       "grid_template_columns": null,
       "grid_template_rows": null,
       "height": null,
       "justify_content": null,
       "justify_items": null,
       "left": null,
       "margin": null,
       "max_height": null,
       "max_width": null,
       "min_height": null,
       "min_width": null,
       "object_fit": null,
       "object_position": null,
       "order": null,
       "overflow": null,
       "overflow_x": null,
       "overflow_y": null,
       "padding": null,
       "right": null,
       "top": null,
       "visibility": null,
       "width": null
      }
     },
     "978add791bd94c1a90e31e6f97411462": {
      "model_module": "@jupyter-widgets/controls",
      "model_module_version": "1.5.0",
      "model_name": "ProgressStyleModel",
      "state": {
       "_model_module": "@jupyter-widgets/controls",
       "_model_module_version": "1.5.0",
       "_model_name": "ProgressStyleModel",
       "_view_count": null,
       "_view_module": "@jupyter-widgets/base",
       "_view_module_version": "1.2.0",
       "_view_name": "StyleView",
       "bar_color": null,
       "description_width": ""
      }
     },
     "a4e09e55df21472d95c960b395c9b294": {
      "model_module": "@jupyter-widgets/controls",
      "model_module_version": "1.5.0",
      "model_name": "FloatProgressModel",
      "state": {
       "_dom_classes": [],
       "_model_module": "@jupyter-widgets/controls",
       "_model_module_version": "1.5.0",
       "_model_name": "FloatProgressModel",
       "_view_count": null,
       "_view_module": "@jupyter-widgets/controls",
       "_view_module_version": "1.5.0",
       "_view_name": "ProgressView",
       "bar_style": "success",
       "description": "",
       "description_tooltip": null,
       "layout": "IPY_MODEL_b62a59dd4a7a4e7fbd53a02378706a69",
       "max": 1.0,
       "min": 0.0,
       "orientation": "horizontal",
       "style": "IPY_MODEL_6d888a3087c04794b56665c6a7da2ce3",
       "value": 1.0
      }
     },
     "a92e64af54de47c7ae381d95c605cc8a": {
      "model_module": "@jupyter-widgets/controls",
      "model_module_version": "1.5.0",
      "model_name": "DescriptionStyleModel",
      "state": {
       "_model_module": "@jupyter-widgets/controls",
       "_model_module_version": "1.5.0",
       "_model_name": "DescriptionStyleModel",
       "_view_count": null,
       "_view_module": "@jupyter-widgets/base",
       "_view_module_version": "1.2.0",
       "_view_name": "StyleView",
       "description_width": ""
      }
     },
     "b62a59dd4a7a4e7fbd53a02378706a69": {
      "model_module": "@jupyter-widgets/base",
      "model_module_version": "1.2.0",
      "model_name": "LayoutModel",
      "state": {
       "_model_module": "@jupyter-widgets/base",
       "_model_module_version": "1.2.0",
       "_model_name": "LayoutModel",
       "_view_count": null,
       "_view_module": "@jupyter-widgets/base",
       "_view_module_version": "1.2.0",
       "_view_name": "LayoutView",
       "align_content": null,
       "align_items": null,
       "align_self": null,
       "border": null,
       "bottom": null,
       "display": null,
       "flex": null,
       "flex_flow": null,
       "grid_area": null,
       "grid_auto_columns": null,
       "grid_auto_flow": null,
       "grid_auto_rows": null,
       "grid_column": null,
       "grid_gap": null,
       "grid_row": null,
       "grid_template_areas": null,
       "grid_template_columns": null,
       "grid_template_rows": null,
       "height": null,
       "justify_content": null,
       "justify_items": null,
       "left": null,
       "margin": null,
       "max_height": null,
       "max_width": null,
       "min_height": null,
       "min_width": null,
       "object_fit": null,
       "object_position": null,
       "order": null,
       "overflow": null,
       "overflow_x": null,
       "overflow_y": null,
       "padding": null,
       "right": null,
       "top": null,
       "visibility": null,
       "width": null
      }
     },
     "c481b3a7966b4aa08d7a0c4d20f1354c": {
      "model_module": "@jupyter-widgets/controls",
      "model_module_version": "1.5.0",
      "model_name": "HTMLModel",
      "state": {
       "_dom_classes": [],
       "_model_module": "@jupyter-widgets/controls",
       "_model_module_version": "1.5.0",
       "_model_name": "HTMLModel",
       "_view_count": null,
       "_view_module": "@jupyter-widgets/controls",
       "_view_module_version": "1.5.0",
       "_view_name": "HTMLView",
       "description": "",
       "description_tooltip": null,
       "layout": "IPY_MODEL_e921ddc3a5574707bc5f3bc403cf768e",
       "placeholder": "​",
       "style": "IPY_MODEL_fd54c6ea62074328b263e0fcbcd8ea19",
       "value": " 1/1 [00:06&lt;00:00,  6.21s/it]"
      }
     },
     "c4bd91b755574bb6ab1cef2bf00ab11d": {
      "model_module": "@jupyter-widgets/base",
      "model_module_version": "1.2.0",
      "model_name": "LayoutModel",
      "state": {
       "_model_module": "@jupyter-widgets/base",
       "_model_module_version": "1.2.0",
       "_model_name": "LayoutModel",
       "_view_count": null,
       "_view_module": "@jupyter-widgets/base",
       "_view_module_version": "1.2.0",
       "_view_name": "LayoutView",
       "align_content": null,
       "align_items": null,
       "align_self": null,
       "border": null,
       "bottom": null,
       "display": null,
       "flex": null,
       "flex_flow": null,
       "grid_area": null,
       "grid_auto_columns": null,
       "grid_auto_flow": null,
       "grid_auto_rows": null,
       "grid_column": null,
       "grid_gap": null,
       "grid_row": null,
       "grid_template_areas": null,
       "grid_template_columns": null,
       "grid_template_rows": null,
       "height": null,
       "justify_content": null,
       "justify_items": null,
       "left": null,
       "margin": null,
       "max_height": null,
       "max_width": null,
       "min_height": null,
       "min_width": null,
       "object_fit": null,
       "object_position": null,
       "order": null,
       "overflow": null,
       "overflow_x": null,
       "overflow_y": null,
       "padding": null,
       "right": null,
       "top": null,
       "visibility": null,
       "width": null
      }
     },
     "c77a6c9ac8d046d28e6eb42c40f5db8c": {
      "model_module": "@jupyter-widgets/base",
      "model_module_version": "1.2.0",
      "model_name": "LayoutModel",
      "state": {
       "_model_module": "@jupyter-widgets/base",
       "_model_module_version": "1.2.0",
       "_model_name": "LayoutModel",
       "_view_count": null,
       "_view_module": "@jupyter-widgets/base",
       "_view_module_version": "1.2.0",
       "_view_name": "LayoutView",
       "align_content": null,
       "align_items": null,
       "align_self": null,
       "border": null,
       "bottom": null,
       "display": null,
       "flex": null,
       "flex_flow": null,
       "grid_area": null,
       "grid_auto_columns": null,
       "grid_auto_flow": null,
       "grid_auto_rows": null,
       "grid_column": null,
       "grid_gap": null,
       "grid_row": null,
       "grid_template_areas": null,
       "grid_template_columns": null,
       "grid_template_rows": null,
       "height": null,
       "justify_content": null,
       "justify_items": null,
       "left": null,
       "margin": null,
       "max_height": null,
       "max_width": null,
       "min_height": null,
       "min_width": null,
       "object_fit": null,
       "object_position": null,
       "order": null,
       "overflow": null,
       "overflow_x": null,
       "overflow_y": null,
       "padding": null,
       "right": null,
       "top": null,
       "visibility": null,
       "width": null
      }
     },
     "c80a2587874b4c2eafa7845d34ee0994": {
      "model_module": "@jupyter-widgets/controls",
      "model_module_version": "1.5.0",
      "model_name": "ProgressStyleModel",
      "state": {
       "_model_module": "@jupyter-widgets/controls",
       "_model_module_version": "1.5.0",
       "_model_name": "ProgressStyleModel",
       "_view_count": null,
       "_view_module": "@jupyter-widgets/base",
       "_view_module_version": "1.2.0",
       "_view_name": "StyleView",
       "bar_color": null,
       "description_width": ""
      }
     },
     "c8461cc77bdf4be99d5968c6f5fd58ac": {
      "model_module": "@jupyter-widgets/controls",
      "model_module_version": "1.5.0",
      "model_name": "DescriptionStyleModel",
      "state": {
       "_model_module": "@jupyter-widgets/controls",
       "_model_module_version": "1.5.0",
       "_model_name": "DescriptionStyleModel",
       "_view_count": null,
       "_view_module": "@jupyter-widgets/base",
       "_view_module_version": "1.2.0",
       "_view_name": "StyleView",
       "description_width": ""
      }
     },
     "cc0e1860c835407dbe25adcb039e7dcb": {
      "model_module": "@jupyter-widgets/controls",
      "model_module_version": "1.5.0",
      "model_name": "HTMLModel",
      "state": {
       "_dom_classes": [],
       "_model_module": "@jupyter-widgets/controls",
       "_model_module_version": "1.5.0",
       "_model_name": "HTMLModel",
       "_view_count": null,
       "_view_module": "@jupyter-widgets/controls",
       "_view_module_version": "1.5.0",
       "_view_name": "HTMLView",
       "description": "",
       "description_tooltip": null,
       "layout": "IPY_MODEL_d38e8eb8676d4abc9864619eca48232f",
       "placeholder": "​",
       "style": "IPY_MODEL_037b9cbad0d54a869d55dd770bd06a8d",
       "value": "Generate report structure: 100%"
      }
     },
     "d38e8eb8676d4abc9864619eca48232f": {
      "model_module": "@jupyter-widgets/base",
      "model_module_version": "1.2.0",
      "model_name": "LayoutModel",
      "state": {
       "_model_module": "@jupyter-widgets/base",
       "_model_module_version": "1.2.0",
       "_model_name": "LayoutModel",
       "_view_count": null,
       "_view_module": "@jupyter-widgets/base",
       "_view_module_version": "1.2.0",
       "_view_name": "LayoutView",
       "align_content": null,
       "align_items": null,
       "align_self": null,
       "border": null,
       "bottom": null,
       "display": null,
       "flex": null,
       "flex_flow": null,
       "grid_area": null,
       "grid_auto_columns": null,
       "grid_auto_flow": null,
       "grid_auto_rows": null,
       "grid_column": null,
       "grid_gap": null,
       "grid_row": null,
       "grid_template_areas": null,
       "grid_template_columns": null,
       "grid_template_rows": null,
       "height": null,
       "justify_content": null,
       "justify_items": null,
       "left": null,
       "margin": null,
       "max_height": null,
       "max_width": null,
       "min_height": null,
       "min_width": null,
       "object_fit": null,
       "object_position": null,
       "order": null,
       "overflow": null,
       "overflow_x": null,
       "overflow_y": null,
       "padding": null,
       "right": null,
       "top": null,
       "visibility": null,
       "width": null
      }
     },
     "d66be04a74344b189421c86ef6950975": {
      "model_module": "@jupyter-widgets/base",
      "model_module_version": "1.2.0",
      "model_name": "LayoutModel",
      "state": {
       "_model_module": "@jupyter-widgets/base",
       "_model_module_version": "1.2.0",
       "_model_name": "LayoutModel",
       "_view_count": null,
       "_view_module": "@jupyter-widgets/base",
       "_view_module_version": "1.2.0",
       "_view_name": "LayoutView",
       "align_content": null,
       "align_items": null,
       "align_self": null,
       "border": null,
       "bottom": null,
       "display": null,
       "flex": null,
       "flex_flow": null,
       "grid_area": null,
       "grid_auto_columns": null,
       "grid_auto_flow": null,
       "grid_auto_rows": null,
       "grid_column": null,
       "grid_gap": null,
       "grid_row": null,
       "grid_template_areas": null,
       "grid_template_columns": null,
       "grid_template_rows": null,
       "height": null,
       "justify_content": null,
       "justify_items": null,
       "left": null,
       "margin": null,
       "max_height": null,
       "max_width": null,
       "min_height": null,
       "min_width": null,
       "object_fit": null,
       "object_position": null,
       "order": null,
       "overflow": null,
       "overflow_x": null,
       "overflow_y": null,
       "padding": null,
       "right": null,
       "top": null,
       "visibility": null,
       "width": null
      }
     },
     "e921ddc3a5574707bc5f3bc403cf768e": {
      "model_module": "@jupyter-widgets/base",
      "model_module_version": "1.2.0",
      "model_name": "LayoutModel",
      "state": {
       "_model_module": "@jupyter-widgets/base",
       "_model_module_version": "1.2.0",
       "_model_name": "LayoutModel",
       "_view_count": null,
       "_view_module": "@jupyter-widgets/base",
       "_view_module_version": "1.2.0",
       "_view_name": "LayoutView",
       "align_content": null,
       "align_items": null,
       "align_self": null,
       "border": null,
       "bottom": null,
       "display": null,
       "flex": null,
       "flex_flow": null,
       "grid_area": null,
       "grid_auto_columns": null,
       "grid_auto_flow": null,
       "grid_auto_rows": null,
       "grid_column": null,
       "grid_gap": null,
       "grid_row": null,
       "grid_template_areas": null,
       "grid_template_columns": null,
       "grid_template_rows": null,
       "height": null,
       "justify_content": null,
       "justify_items": null,
       "left": null,
       "margin": null,
       "max_height": null,
       "max_width": null,
       "min_height": null,
       "min_width": null,
       "object_fit": null,
       "object_position": null,
       "order": null,
       "overflow": null,
       "overflow_x": null,
       "overflow_y": null,
       "padding": null,
       "right": null,
       "top": null,
       "visibility": null,
       "width": null
      }
     },
     "ebf53f9ae7af4b7ea7c61c38fd248e87": {
      "model_module": "@jupyter-widgets/controls",
      "model_module_version": "1.5.0",
      "model_name": "HBoxModel",
      "state": {
       "_dom_classes": [],
       "_model_module": "@jupyter-widgets/controls",
       "_model_module_version": "1.5.0",
       "_model_name": "HBoxModel",
       "_view_count": null,
       "_view_module": "@jupyter-widgets/controls",
       "_view_module_version": "1.5.0",
       "_view_name": "HBoxView",
       "box_style": "",
       "children": [
        "IPY_MODEL_8ec57909090b4f02892a7a1112e1d879",
        "IPY_MODEL_a4e09e55df21472d95c960b395c9b294",
        "IPY_MODEL_8e555013c34c47c0bf9ebde6c1e0d856"
       ],
       "layout": "IPY_MODEL_0d3e003653f04bdb90850540dd8c96cc"
      }
     },
     "f1480a9435d1459caf6c710ad15298fc": {
      "model_module": "@jupyter-widgets/controls",
      "model_module_version": "1.5.0",
      "model_name": "DescriptionStyleModel",
      "state": {
       "_model_module": "@jupyter-widgets/controls",
       "_model_module_version": "1.5.0",
       "_model_name": "DescriptionStyleModel",
       "_view_count": null,
       "_view_module": "@jupyter-widgets/base",
       "_view_module_version": "1.2.0",
       "_view_name": "StyleView",
       "description_width": ""
      }
     },
     "f5b2dc62503142a6a927c28e692b8c05": {
      "model_module": "@jupyter-widgets/base",
      "model_module_version": "1.2.0",
      "model_name": "LayoutModel",
      "state": {
       "_model_module": "@jupyter-widgets/base",
       "_model_module_version": "1.2.0",
       "_model_name": "LayoutModel",
       "_view_count": null,
       "_view_module": "@jupyter-widgets/base",
       "_view_module_version": "1.2.0",
       "_view_name": "LayoutView",
       "align_content": null,
       "align_items": null,
       "align_self": null,
       "border": null,
       "bottom": null,
       "display": null,
       "flex": null,
       "flex_flow": null,
       "grid_area": null,
       "grid_auto_columns": null,
       "grid_auto_flow": null,
       "grid_auto_rows": null,
       "grid_column": null,
       "grid_gap": null,
       "grid_row": null,
       "grid_template_areas": null,
       "grid_template_columns": null,
       "grid_template_rows": null,
       "height": null,
       "justify_content": null,
       "justify_items": null,
       "left": null,
       "margin": null,
       "max_height": null,
       "max_width": null,
       "min_height": null,
       "min_width": null,
       "object_fit": null,
       "object_position": null,
       "order": null,
       "overflow": null,
       "overflow_x": null,
       "overflow_y": null,
       "padding": null,
       "right": null,
       "top": null,
       "visibility": null,
       "width": null
      }
     },
     "fd54c6ea62074328b263e0fcbcd8ea19": {
      "model_module": "@jupyter-widgets/controls",
      "model_module_version": "1.5.0",
      "model_name": "DescriptionStyleModel",
      "state": {
       "_model_module": "@jupyter-widgets/controls",
       "_model_module_version": "1.5.0",
       "_model_name": "DescriptionStyleModel",
       "_view_count": null,
       "_view_module": "@jupyter-widgets/base",
       "_view_module_version": "1.2.0",
       "_view_name": "StyleView",
       "description_width": ""
      }
     },
     "fe60f0c40d45485481575f7a5004b1de": {
      "model_module": "@jupyter-widgets/base",
      "model_module_version": "1.2.0",
      "model_name": "LayoutModel",
      "state": {
       "_model_module": "@jupyter-widgets/base",
       "_model_module_version": "1.2.0",
       "_model_name": "LayoutModel",
       "_view_count": null,
       "_view_module": "@jupyter-widgets/base",
       "_view_module_version": "1.2.0",
       "_view_name": "LayoutView",
       "align_content": null,
       "align_items": null,
       "align_self": null,
       "border": null,
       "bottom": null,
       "display": null,
       "flex": null,
       "flex_flow": null,
       "grid_area": null,
       "grid_auto_columns": null,
       "grid_auto_flow": null,
       "grid_auto_rows": null,
       "grid_column": null,
       "grid_gap": null,
       "grid_row": null,
       "grid_template_areas": null,
       "grid_template_columns": null,
       "grid_template_rows": null,
       "height": null,
       "justify_content": null,
       "justify_items": null,
       "left": null,
       "margin": null,
       "max_height": null,
       "max_width": null,
       "min_height": null,
       "min_width": null,
       "object_fit": null,
       "object_position": null,
       "order": null,
       "overflow": null,
       "overflow_x": null,
       "overflow_y": null,
       "padding": null,
       "right": null,
       "top": null,
       "visibility": null,
       "width": null
      }
     }
    },
    "version_major": 2,
    "version_minor": 0
   }
  }
 },
 "nbformat": 4,
 "nbformat_minor": 5
}
